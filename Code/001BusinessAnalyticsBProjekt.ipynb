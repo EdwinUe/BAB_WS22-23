{
  "cells": [
    {
      "cell_type": "markdown",
      "metadata": {
        "id": "4zJO-XKgfQUb"
      },
      "source": [
        "# Willkommen\n",
        "\n",
        "Kommentare immer unter dem Code "
      ]
    },
    {
      "cell_type": "code",
      "execution_count": 8,
      "metadata": {},
      "outputs": [
        {
          "name": "stdout",
          "output_type": "stream",
          "text": [
            "Requirement already satisfied: numpy in c:\\users\\edwin\\appdata\\local\\programs\\python\\python310\\lib\\site-packages (1.23.3)\n"
          ]
        },
        {
          "name": "stderr",
          "output_type": "stream",
          "text": [
            "\n",
            "[notice] A new release of pip available: 22.2.2 -> 22.3.1\n",
            "[notice] To update, run: python.exe -m pip install --upgrade pip\n"
          ]
        },
        {
          "name": "stdout",
          "output_type": "stream",
          "text": [
            "Requirement already satisfied: pandas in c:\\users\\edwin\\appdata\\local\\programs\\python\\python310\\lib\\site-packages (1.5.0)\n",
            "Requirement already satisfied: pytz>=2020.1 in c:\\users\\edwin\\appdata\\local\\programs\\python\\python310\\lib\\site-packages (from pandas) (2022.4)\n",
            "Requirement already satisfied: python-dateutil>=2.8.1 in c:\\users\\edwin\\appdata\\roaming\\python\\python310\\site-packages (from pandas) (2.8.2)\n",
            "Requirement already satisfied: numpy>=1.21.0 in c:\\users\\edwin\\appdata\\local\\programs\\python\\python310\\lib\\site-packages (from pandas) (1.23.3)\n",
            "Requirement already satisfied: six>=1.5 in c:\\users\\edwin\\appdata\\roaming\\python\\python310\\site-packages (from python-dateutil>=2.8.1->pandas) (1.16.0)\n"
          ]
        },
        {
          "name": "stderr",
          "output_type": "stream",
          "text": [
            "\n",
            "[notice] A new release of pip available: 22.2.2 -> 22.3.1\n",
            "[notice] To update, run: python.exe -m pip install --upgrade pip\n",
            "ERROR: Could not find a version that satisfies the requirement matplotlib.pylab (from versions: none)\n",
            "ERROR: No matching distribution found for matplotlib.pylab\n",
            "\n",
            "[notice] A new release of pip available: 22.2.2 -> 22.3.1\n",
            "[notice] To update, run: python.exe -m pip install --upgrade pip\n",
            "\n",
            "[notice] A new release of pip available: 22.2.2 -> 22.3.1\n",
            "[notice] To update, run: python.exe -m pip install --upgrade pip\n"
          ]
        },
        {
          "name": "stdout",
          "output_type": "stream",
          "text": [
            "Collecting seaborn\n",
            "  Downloading seaborn-0.12.1-py3-none-any.whl (288 kB)\n",
            "     -------------------------------------- 288.2/288.2 kB 3.0 MB/s eta 0:00:00\n",
            "Requirement already satisfied: pandas>=0.25 in c:\\users\\edwin\\appdata\\local\\programs\\python\\python310\\lib\\site-packages (from seaborn) (1.5.0)\n",
            "Requirement already satisfied: numpy>=1.17 in c:\\users\\edwin\\appdata\\local\\programs\\python\\python310\\lib\\site-packages (from seaborn) (1.23.3)\n",
            "Collecting matplotlib!=3.6.1,>=3.1\n",
            "  Downloading matplotlib-3.6.2-cp310-cp310-win_amd64.whl (7.2 MB)\n",
            "     ---------------------------------------- 7.2/7.2 MB 12.1 MB/s eta 0:00:00\n",
            "Collecting kiwisolver>=1.0.1\n",
            "  Downloading kiwisolver-1.4.4-cp310-cp310-win_amd64.whl (55 kB)\n",
            "     ---------------------------------------- 55.3/55.3 kB 2.8 MB/s eta 0:00:00\n",
            "Requirement already satisfied: packaging>=20.0 in c:\\users\\edwin\\appdata\\roaming\\python\\python310\\site-packages (from matplotlib!=3.6.1,>=3.1->seaborn) (21.3)\n",
            "Requirement already satisfied: python-dateutil>=2.7 in c:\\users\\edwin\\appdata\\roaming\\python\\python310\\site-packages (from matplotlib!=3.6.1,>=3.1->seaborn) (2.8.2)\n",
            "Collecting contourpy>=1.0.1\n",
            "  Downloading contourpy-1.0.6-cp310-cp310-win_amd64.whl (163 kB)\n",
            "     ------------------------------------- 163.6/163.6 kB 10.2 MB/s eta 0:00:00\n",
            "Collecting cycler>=0.10\n",
            "  Using cached cycler-0.11.0-py3-none-any.whl (6.4 kB)\n",
            "Requirement already satisfied: pyparsing>=2.2.1 in c:\\users\\edwin\\appdata\\roaming\\python\\python310\\site-packages (from matplotlib!=3.6.1,>=3.1->seaborn) (3.0.9)\n",
            "Collecting fonttools>=4.22.0\n",
            "  Downloading fonttools-4.38.0-py3-none-any.whl (965 kB)\n",
            "     ------------------------------------- 965.4/965.4 kB 12.2 MB/s eta 0:00:00\n",
            "Collecting pillow>=6.2.0\n",
            "  Downloading Pillow-9.3.0-cp310-cp310-win_amd64.whl (2.5 MB)\n",
            "     ---------------------------------------- 2.5/2.5 MB 11.2 MB/s eta 0:00:00\n",
            "Requirement already satisfied: pytz>=2020.1 in c:\\users\\edwin\\appdata\\local\\programs\\python\\python310\\lib\\site-packages (from pandas>=0.25->seaborn) (2022.4)\n",
            "Requirement already satisfied: six>=1.5 in c:\\users\\edwin\\appdata\\roaming\\python\\python310\\site-packages (from python-dateutil>=2.7->matplotlib!=3.6.1,>=3.1->seaborn) (1.16.0)\n",
            "Installing collected packages: pillow, kiwisolver, fonttools, cycler, contourpy, matplotlib, seaborn\n",
            "Successfully installed contourpy-1.0.6 cycler-0.11.0 fonttools-4.38.0 kiwisolver-1.4.4 matplotlib-3.6.2 pillow-9.3.0 seaborn-0.12.1\n"
          ]
        }
      ],
      "source": [
        "!pip install numpy\n",
        "!pip install pandas\n",
        "!pip install matplotlib.pylab\n",
        "!pip install seaborn"
      ]
    },
    {
      "cell_type": "code",
      "execution_count": 9,
      "metadata": {
        "id": "05haUe-u99ZU"
      },
      "outputs": [],
      "source": [
        "import numpy as np\n",
        "import pandas as pd\n",
        "import matplotlib.pylab as plt\n",
        "import seaborn as sns\n",
        "%matplotlib inline\n",
        "sns.set(rc={'figure.figsize':(10,10)})"
      ]
    },
    {
      "cell_type": "markdown",
      "metadata": {
        "id": "23vMBqsU9y3q"
      },
      "source": [
        "# 1) Daten einlesen\n"
      ]
    },
    {
      "cell_type": "code",
      "execution_count": 14,
      "metadata": {
        "colab": {
          "base_uri": "https://localhost:8080/",
          "height": 206
        },
        "id": "8mNoQ5xJ7r3h",
        "outputId": "7c58eeac-ae66-4b63-e84c-d9f36a62d3d3"
      },
      "outputs": [
        {
          "data": {
            "text/html": [
              "<div>\n",
              "<style scoped>\n",
              "    .dataframe tbody tr th:only-of-type {\n",
              "        vertical-align: middle;\n",
              "    }\n",
              "\n",
              "    .dataframe tbody tr th {\n",
              "        vertical-align: top;\n",
              "    }\n",
              "\n",
              "    .dataframe thead th {\n",
              "        text-align: right;\n",
              "    }\n",
              "</style>\n",
              "<table border=\"1\" class=\"dataframe\">\n",
              "  <thead>\n",
              "    <tr style=\"text-align: right;\">\n",
              "      <th></th>\n",
              "      <th>date</th>\n",
              "      <th>week_id</th>\n",
              "      <th>event_name_1</th>\n",
              "      <th>event_type_1</th>\n",
              "      <th>event_name_2</th>\n",
              "      <th>event_type_2</th>\n",
              "      <th>snap</th>\n",
              "    </tr>\n",
              "  </thead>\n",
              "  <tbody>\n",
              "    <tr>\n",
              "      <th>0</th>\n",
              "      <td>2011-03-01</td>\n",
              "      <td>11105</td>\n",
              "      <td>NaN</td>\n",
              "      <td>NaN</td>\n",
              "      <td>NaN</td>\n",
              "      <td>NaN</td>\n",
              "      <td>1</td>\n",
              "    </tr>\n",
              "    <tr>\n",
              "      <th>1</th>\n",
              "      <td>2011-03-02</td>\n",
              "      <td>11105</td>\n",
              "      <td>NaN</td>\n",
              "      <td>NaN</td>\n",
              "      <td>NaN</td>\n",
              "      <td>NaN</td>\n",
              "      <td>1</td>\n",
              "    </tr>\n",
              "    <tr>\n",
              "      <th>2</th>\n",
              "      <td>2011-03-03</td>\n",
              "      <td>11105</td>\n",
              "      <td>NaN</td>\n",
              "      <td>NaN</td>\n",
              "      <td>NaN</td>\n",
              "      <td>NaN</td>\n",
              "      <td>1</td>\n",
              "    </tr>\n",
              "    <tr>\n",
              "      <th>3</th>\n",
              "      <td>2011-03-04</td>\n",
              "      <td>11105</td>\n",
              "      <td>NaN</td>\n",
              "      <td>NaN</td>\n",
              "      <td>NaN</td>\n",
              "      <td>NaN</td>\n",
              "      <td>1</td>\n",
              "    </tr>\n",
              "    <tr>\n",
              "      <th>4</th>\n",
              "      <td>2011-03-05</td>\n",
              "      <td>11106</td>\n",
              "      <td>NaN</td>\n",
              "      <td>NaN</td>\n",
              "      <td>NaN</td>\n",
              "      <td>NaN</td>\n",
              "      <td>1</td>\n",
              "    </tr>\n",
              "  </tbody>\n",
              "</table>\n",
              "</div>"
            ],
            "text/plain": [
              "         date  week_id event_name_1 event_type_1 event_name_2 event_type_2  \\\n",
              "0  2011-03-01    11105          NaN          NaN          NaN          NaN   \n",
              "1  2011-03-02    11105          NaN          NaN          NaN          NaN   \n",
              "2  2011-03-03    11105          NaN          NaN          NaN          NaN   \n",
              "3  2011-03-04    11105          NaN          NaN          NaN          NaN   \n",
              "4  2011-03-05    11106          NaN          NaN          NaN          NaN   \n",
              "\n",
              "   snap  \n",
              "0     1  \n",
              "1     1  \n",
              "2     1  \n",
              "3     1  \n",
              "4     1  "
            ]
          },
          "execution_count": 14,
          "metadata": {},
          "output_type": "execute_result"
        }
      ],
      "source": [
        "df_cal = pd.read_csv('../Data/calendar.csv', sep=',')\n",
        "df_cal.head()"
      ]
    },
    {
      "cell_type": "code",
      "execution_count": 15,
      "metadata": {
        "id": "mjKIm58QfZZW"
      },
      "outputs": [
        {
          "data": {
            "text/html": [
              "<div>\n",
              "<style scoped>\n",
              "    .dataframe tbody tr th:only-of-type {\n",
              "        vertical-align: middle;\n",
              "    }\n",
              "\n",
              "    .dataframe tbody tr th {\n",
              "        vertical-align: top;\n",
              "    }\n",
              "\n",
              "    .dataframe thead th {\n",
              "        text-align: right;\n",
              "    }\n",
              "</style>\n",
              "<table border=\"1\" class=\"dataframe\">\n",
              "  <thead>\n",
              "    <tr style=\"text-align: right;\">\n",
              "      <th></th>\n",
              "      <th>Unnamed: 0</th>\n",
              "      <th>item_id</th>\n",
              "      <th>week_id</th>\n",
              "      <th>price</th>\n",
              "    </tr>\n",
              "  </thead>\n",
              "  <tbody>\n",
              "    <tr>\n",
              "      <th>0</th>\n",
              "      <td>0</td>\n",
              "      <td>HOBBIES_1_001</td>\n",
              "      <td>11325</td>\n",
              "      <td>9.58</td>\n",
              "    </tr>\n",
              "    <tr>\n",
              "      <th>1</th>\n",
              "      <td>1</td>\n",
              "      <td>HOBBIES_1_001</td>\n",
              "      <td>11326</td>\n",
              "      <td>9.58</td>\n",
              "    </tr>\n",
              "    <tr>\n",
              "      <th>2</th>\n",
              "      <td>2</td>\n",
              "      <td>HOBBIES_1_001</td>\n",
              "      <td>11327</td>\n",
              "      <td>8.26</td>\n",
              "    </tr>\n",
              "    <tr>\n",
              "      <th>3</th>\n",
              "      <td>3</td>\n",
              "      <td>HOBBIES_1_001</td>\n",
              "      <td>11328</td>\n",
              "      <td>8.26</td>\n",
              "    </tr>\n",
              "    <tr>\n",
              "      <th>4</th>\n",
              "      <td>4</td>\n",
              "      <td>HOBBIES_1_001</td>\n",
              "      <td>11329</td>\n",
              "      <td>8.26</td>\n",
              "    </tr>\n",
              "  </tbody>\n",
              "</table>\n",
              "</div>"
            ],
            "text/plain": [
              "   Unnamed: 0        item_id  week_id  price\n",
              "0           0  HOBBIES_1_001    11325   9.58\n",
              "1           1  HOBBIES_1_001    11326   9.58\n",
              "2           2  HOBBIES_1_001    11327   8.26\n",
              "3           3  HOBBIES_1_001    11328   8.26\n",
              "4           4  HOBBIES_1_001    11329   8.26"
            ]
          },
          "execution_count": 15,
          "metadata": {},
          "output_type": "execute_result"
        }
      ],
      "source": [
        "df_price = pd.read_csv('../Data/prices.csv', sep=',')\n",
        "df_price.head()"
      ]
    },
    {
      "cell_type": "code",
      "execution_count": 16,
      "metadata": {
        "id": "h8cYS_LCfZlI"
      },
      "outputs": [
        {
          "data": {
            "text/html": [
              "<div>\n",
              "<style scoped>\n",
              "    .dataframe tbody tr th:only-of-type {\n",
              "        vertical-align: middle;\n",
              "    }\n",
              "\n",
              "    .dataframe tbody tr th {\n",
              "        vertical-align: top;\n",
              "    }\n",
              "\n",
              "    .dataframe thead th {\n",
              "        text-align: right;\n",
              "    }\n",
              "</style>\n",
              "<table border=\"1\" class=\"dataframe\">\n",
              "  <thead>\n",
              "    <tr style=\"text-align: right;\">\n",
              "      <th></th>\n",
              "      <th>date</th>\n",
              "      <th>item_id</th>\n",
              "      <th>dept_id</th>\n",
              "      <th>cat_id</th>\n",
              "      <th>sales</th>\n",
              "    </tr>\n",
              "  </thead>\n",
              "  <tbody>\n",
              "    <tr>\n",
              "      <th>0</th>\n",
              "      <td>2011-03-01</td>\n",
              "      <td>HOBBIES_1_001</td>\n",
              "      <td>HOBBIES_1</td>\n",
              "      <td>HOBBIES</td>\n",
              "      <td>0</td>\n",
              "    </tr>\n",
              "    <tr>\n",
              "      <th>1</th>\n",
              "      <td>2011-03-01</td>\n",
              "      <td>HOBBIES_1_002</td>\n",
              "      <td>HOBBIES_1</td>\n",
              "      <td>HOBBIES</td>\n",
              "      <td>0</td>\n",
              "    </tr>\n",
              "    <tr>\n",
              "      <th>2</th>\n",
              "      <td>2011-03-01</td>\n",
              "      <td>HOBBIES_1_003</td>\n",
              "      <td>HOBBIES_1</td>\n",
              "      <td>HOBBIES</td>\n",
              "      <td>0</td>\n",
              "    </tr>\n",
              "    <tr>\n",
              "      <th>3</th>\n",
              "      <td>2011-03-01</td>\n",
              "      <td>HOBBIES_1_004</td>\n",
              "      <td>HOBBIES_1</td>\n",
              "      <td>HOBBIES</td>\n",
              "      <td>0</td>\n",
              "    </tr>\n",
              "    <tr>\n",
              "      <th>4</th>\n",
              "      <td>2011-03-01</td>\n",
              "      <td>HOBBIES_1_005</td>\n",
              "      <td>HOBBIES_1</td>\n",
              "      <td>HOBBIES</td>\n",
              "      <td>0</td>\n",
              "    </tr>\n",
              "    <tr>\n",
              "      <th>...</th>\n",
              "      <td>...</td>\n",
              "      <td>...</td>\n",
              "      <td>...</td>\n",
              "      <td>...</td>\n",
              "      <td>...</td>\n",
              "    </tr>\n",
              "    <tr>\n",
              "      <th>5570518</th>\n",
              "      <td>2016-02-29</td>\n",
              "      <td>FOODS_3_823</td>\n",
              "      <td>FOODS_3</td>\n",
              "      <td>FOODS</td>\n",
              "      <td>2</td>\n",
              "    </tr>\n",
              "    <tr>\n",
              "      <th>5570519</th>\n",
              "      <td>2016-02-29</td>\n",
              "      <td>FOODS_3_824</td>\n",
              "      <td>FOODS_3</td>\n",
              "      <td>FOODS</td>\n",
              "      <td>0</td>\n",
              "    </tr>\n",
              "    <tr>\n",
              "      <th>5570520</th>\n",
              "      <td>2016-02-29</td>\n",
              "      <td>FOODS_3_825</td>\n",
              "      <td>FOODS_3</td>\n",
              "      <td>FOODS</td>\n",
              "      <td>0</td>\n",
              "    </tr>\n",
              "    <tr>\n",
              "      <th>5570521</th>\n",
              "      <td>2016-02-29</td>\n",
              "      <td>FOODS_3_826</td>\n",
              "      <td>FOODS_3</td>\n",
              "      <td>FOODS</td>\n",
              "      <td>1</td>\n",
              "    </tr>\n",
              "    <tr>\n",
              "      <th>5570522</th>\n",
              "      <td>2016-02-29</td>\n",
              "      <td>FOODS_3_827</td>\n",
              "      <td>FOODS_3</td>\n",
              "      <td>FOODS</td>\n",
              "      <td>1</td>\n",
              "    </tr>\n",
              "  </tbody>\n",
              "</table>\n",
              "<p>5570523 rows × 5 columns</p>\n",
              "</div>"
            ],
            "text/plain": [
              "               date        item_id    dept_id   cat_id  sales\n",
              "0        2011-03-01  HOBBIES_1_001  HOBBIES_1  HOBBIES      0\n",
              "1        2011-03-01  HOBBIES_1_002  HOBBIES_1  HOBBIES      0\n",
              "2        2011-03-01  HOBBIES_1_003  HOBBIES_1  HOBBIES      0\n",
              "3        2011-03-01  HOBBIES_1_004  HOBBIES_1  HOBBIES      0\n",
              "4        2011-03-01  HOBBIES_1_005  HOBBIES_1  HOBBIES      0\n",
              "...             ...            ...        ...      ...    ...\n",
              "5570518  2016-02-29    FOODS_3_823    FOODS_3    FOODS      2\n",
              "5570519  2016-02-29    FOODS_3_824    FOODS_3    FOODS      0\n",
              "5570520  2016-02-29    FOODS_3_825    FOODS_3    FOODS      0\n",
              "5570521  2016-02-29    FOODS_3_826    FOODS_3    FOODS      1\n",
              "5570522  2016-02-29    FOODS_3_827    FOODS_3    FOODS      1\n",
              "\n",
              "[5570523 rows x 5 columns]"
            ]
          },
          "execution_count": 16,
          "metadata": {},
          "output_type": "execute_result"
        }
      ],
      "source": [
        "df_sales = pd.read_csv('../Data/sales.csv', sep=',')\n",
        "df_sales"
      ]
    },
    {
      "cell_type": "markdown",
      "metadata": {
        "id": "ua1juXG8fenm"
      },
      "source": [
        "#2) Datenexploration"
      ]
    },
    {
      "cell_type": "markdown",
      "metadata": {
        "id": "mk7HJik_fnme"
      },
      "source": [
        "###Calendar"
      ]
    },
    {
      "cell_type": "code",
      "execution_count": 17,
      "metadata": {
        "colab": {
          "base_uri": "https://localhost:8080/"
        },
        "id": "02gB2Bj8As2B",
        "outputId": "b1622af9-04b5-4d71-f4b5-9349cb5dc0e2"
      },
      "outputs": [
        {
          "name": "stdout",
          "output_type": "stream",
          "text": [
            "<class 'pandas.core.frame.DataFrame'>\n",
            "RangeIndex: 1858 entries, 0 to 1857\n",
            "Data columns (total 7 columns):\n",
            " #   Column        Non-Null Count  Dtype \n",
            "---  ------        --------------  ----- \n",
            " 0   date          1858 non-null   object\n",
            " 1   week_id       1858 non-null   int64 \n",
            " 2   event_name_1  151 non-null    object\n",
            " 3   event_type_1  151 non-null    object\n",
            " 4   event_name_2  4 non-null      object\n",
            " 5   event_type_2  4 non-null      object\n",
            " 6   snap          1858 non-null   int64 \n",
            "dtypes: int64(2), object(5)\n",
            "memory usage: 101.7+ KB\n"
          ]
        }
      ],
      "source": [
        "df_cal.info()"
      ]
    },
    {
      "cell_type": "code",
      "execution_count": 18,
      "metadata": {
        "colab": {
          "base_uri": "https://localhost:8080/",
          "height": 300
        },
        "id": "yg9VkeDjBDnh",
        "outputId": "e8a1f1be-5b18-47b6-e606-9349399131b5"
      },
      "outputs": [
        {
          "data": {
            "text/html": [
              "<div>\n",
              "<style scoped>\n",
              "    .dataframe tbody tr th:only-of-type {\n",
              "        vertical-align: middle;\n",
              "    }\n",
              "\n",
              "    .dataframe tbody tr th {\n",
              "        vertical-align: top;\n",
              "    }\n",
              "\n",
              "    .dataframe thead th {\n",
              "        text-align: right;\n",
              "    }\n",
              "</style>\n",
              "<table border=\"1\" class=\"dataframe\">\n",
              "  <thead>\n",
              "    <tr style=\"text-align: right;\">\n",
              "      <th></th>\n",
              "      <th>week_id</th>\n",
              "      <th>snap</th>\n",
              "    </tr>\n",
              "  </thead>\n",
              "  <tbody>\n",
              "    <tr>\n",
              "      <th>count</th>\n",
              "      <td>1858.000000</td>\n",
              "      <td>1858.000000</td>\n",
              "    </tr>\n",
              "    <tr>\n",
              "      <th>mean</th>\n",
              "      <td>11339.624327</td>\n",
              "      <td>0.328310</td>\n",
              "    </tr>\n",
              "    <tr>\n",
              "      <th>std</th>\n",
              "      <td>146.305645</td>\n",
              "      <td>0.469725</td>\n",
              "    </tr>\n",
              "    <tr>\n",
              "      <th>min</th>\n",
              "      <td>11105.000000</td>\n",
              "      <td>0.000000</td>\n",
              "    </tr>\n",
              "    <tr>\n",
              "      <th>25%</th>\n",
              "      <td>11219.000000</td>\n",
              "      <td>0.000000</td>\n",
              "    </tr>\n",
              "    <tr>\n",
              "      <th>50%</th>\n",
              "      <td>11334.000000</td>\n",
              "      <td>0.000000</td>\n",
              "    </tr>\n",
              "    <tr>\n",
              "      <th>75%</th>\n",
              "      <td>11447.000000</td>\n",
              "      <td>1.000000</td>\n",
              "    </tr>\n",
              "    <tr>\n",
              "      <th>max</th>\n",
              "      <td>11609.000000</td>\n",
              "      <td>1.000000</td>\n",
              "    </tr>\n",
              "  </tbody>\n",
              "</table>\n",
              "</div>"
            ],
            "text/plain": [
              "            week_id         snap\n",
              "count   1858.000000  1858.000000\n",
              "mean   11339.624327     0.328310\n",
              "std      146.305645     0.469725\n",
              "min    11105.000000     0.000000\n",
              "25%    11219.000000     0.000000\n",
              "50%    11334.000000     0.000000\n",
              "75%    11447.000000     1.000000\n",
              "max    11609.000000     1.000000"
            ]
          },
          "execution_count": 18,
          "metadata": {},
          "output_type": "execute_result"
        }
      ],
      "source": [
        "df_cal.describe()"
      ]
    },
    {
      "cell_type": "code",
      "execution_count": 19,
      "metadata": {
        "colab": {
          "base_uri": "https://localhost:8080/"
        },
        "id": "dV2_Dx0RFUvA",
        "outputId": "2de147d1-dbe0-4f85-e312-be6ac206fb19"
      },
      "outputs": [
        {
          "data": {
            "text/plain": [
              "0       2011-03-01\n",
              "1       2011-03-02\n",
              "2       2011-03-03\n",
              "3       2011-03-04\n",
              "4       2011-03-05\n",
              "           ...    \n",
              "1853    2016-03-27\n",
              "1854    2016-03-28\n",
              "1855    2016-03-29\n",
              "1856    2016-03-30\n",
              "1857    2016-03-31\n",
              "Name: date, Length: 1858, dtype: object"
            ]
          },
          "execution_count": 19,
          "metadata": {},
          "output_type": "execute_result"
        }
      ],
      "source": [
        "df_cal['date']"
      ]
    },
    {
      "cell_type": "code",
      "execution_count": 20,
      "metadata": {
        "colab": {
          "base_uri": "https://localhost:8080/"
        },
        "id": "r-rQICgzBIjk",
        "outputId": "ed73aa9a-fb77-4e09-b08d-a7c34d8174f3"
      },
      "outputs": [
        {
          "data": {
            "text/plain": [
              "array([nan, 'LentStart', 'LentWeek2', 'StPatricksDay', 'Purim End',\n",
              "       'OrthodoxEaster', 'Pesach End', 'Cinco De Mayo', \"Mother's day\",\n",
              "       'MemorialDay', 'NBAFinalsStart', 'NBAFinalsEnd', \"Father's day\",\n",
              "       'IndependenceDay', 'Ramadan starts', 'Eid al-Fitr', 'LaborDay',\n",
              "       'ColumbusDay', 'Halloween', 'EidAlAdha', 'VeteransDay',\n",
              "       'Thanksgiving', 'Christmas', 'Chanukah End', 'NewYear',\n",
              "       'OrthodoxChristmas', 'MartinLutherKingDay', 'SuperBowl',\n",
              "       'ValentinesDay', 'PresidentsDay', 'Easter'], dtype=object)"
            ]
          },
          "execution_count": 20,
          "metadata": {},
          "output_type": "execute_result"
        }
      ],
      "source": [
        "df_cal['event_name_1'].unique()"
      ]
    },
    {
      "cell_type": "code",
      "execution_count": 21,
      "metadata": {
        "colab": {
          "base_uri": "https://localhost:8080/"
        },
        "id": "62XKyH9ADXTU",
        "outputId": "41f9a5b5-4315-4274-a80e-e7935b842c1b"
      },
      "outputs": [
        {
          "data": {
            "text/plain": [
              "LentStart              6\n",
              "StPatricksDay          6\n",
              "Purim End              6\n",
              "LentWeek2              6\n",
              "Halloween              5\n",
              "PresidentsDay          5\n",
              "ValentinesDay          5\n",
              "SuperBowl              5\n",
              "MartinLutherKingDay    5\n",
              "OrthodoxChristmas      5\n",
              "NewYear                5\n",
              "Chanukah End           5\n",
              "Christmas              5\n",
              "Thanksgiving           5\n",
              "VeteransDay            5\n",
              "EidAlAdha              5\n",
              "LaborDay               5\n",
              "ColumbusDay            5\n",
              "Eid al-Fitr            5\n",
              "Ramadan starts         5\n",
              "IndependenceDay        5\n",
              "NBAFinalsEnd           5\n",
              "NBAFinalsStart         5\n",
              "MemorialDay            5\n",
              "Mother's day           5\n",
              "Pesach End             5\n",
              "Easter                 5\n",
              "Father's day           4\n",
              "Cinco De Mayo          4\n",
              "OrthodoxEaster         4\n",
              "Name: event_name_1, dtype: int64"
            ]
          },
          "execution_count": 21,
          "metadata": {},
          "output_type": "execute_result"
        }
      ],
      "source": [
        "df_cal['event_name_1'].value_counts()"
      ]
    },
    {
      "cell_type": "code",
      "execution_count": 22,
      "metadata": {
        "colab": {
          "base_uri": "https://localhost:8080/"
        },
        "id": "kIdAO84JDjWB",
        "outputId": "df10966b-f621-4a54-8308-f43198f2600e"
      },
      "outputs": [
        {
          "data": {
            "text/plain": [
              "151"
            ]
          },
          "execution_count": 22,
          "metadata": {},
          "output_type": "execute_result"
        }
      ],
      "source": [
        "df_cal['event_name_1'].value_counts().sum()"
      ]
    },
    {
      "cell_type": "markdown",
      "metadata": {
        "id": "CzTLoVosDl0i"
      },
      "source": [
        "Von 1858 Datensätzen finden 151 an einem Feiertag statt."
      ]
    },
    {
      "cell_type": "code",
      "execution_count": 23,
      "metadata": {
        "colab": {
          "base_uri": "https://localhost:8080/"
        },
        "id": "Luy3SvnQD10n",
        "outputId": "806111ad-164f-4d78-e687-e6893b4ea1ac"
      },
      "outputs": [
        {
          "data": {
            "text/plain": [
              "Easter            1\n",
              "Cinco De Mayo     1\n",
              "OrthodoxEaster    1\n",
              "Father's day      1\n",
              "Name: event_name_2, dtype: int64"
            ]
          },
          "execution_count": 23,
          "metadata": {},
          "output_type": "execute_result"
        }
      ],
      "source": [
        "df_cal['event_name_2'].value_counts()"
      ]
    },
    {
      "cell_type": "markdown",
      "metadata": {
        "id": "Myz6xLv7D54a"
      },
      "source": [
        "Doppelter Feiertag findet nur 4 mal im Datensatz statt.\n"
      ]
    },
    {
      "cell_type": "code",
      "execution_count": 24,
      "metadata": {
        "colab": {
          "base_uri": "https://localhost:8080/"
        },
        "id": "Jh6D9-fGBoMt",
        "outputId": "d0b7cebf-7ed0-4843-966c-b6dcb83d25ee"
      },
      "outputs": [
        {
          "data": {
            "text/plain": [
              "array([nan, 'Easter', 'Cinco De Mayo', 'OrthodoxEaster', \"Father's day\"],\n",
              "      dtype=object)"
            ]
          },
          "execution_count": 24,
          "metadata": {},
          "output_type": "execute_result"
        }
      ],
      "source": [
        "df_cal['event_name_2'].unique()"
      ]
    },
    {
      "cell_type": "code",
      "execution_count": 25,
      "metadata": {
        "colab": {
          "base_uri": "https://localhost:8080/"
        },
        "id": "xLSeQE4CBx_h",
        "outputId": "13e1692a-6afe-427e-8e70-90dc931fa60a"
      },
      "outputs": [
        {
          "data": {
            "text/plain": [
              "array([nan, 'Religious', 'Cultural', 'National', 'Sporting'], dtype=object)"
            ]
          },
          "execution_count": 25,
          "metadata": {},
          "output_type": "execute_result"
        }
      ],
      "source": [
        "df_cal['event_type_1'].unique()"
      ]
    },
    {
      "cell_type": "code",
      "execution_count": 26,
      "metadata": {
        "colab": {
          "base_uri": "https://localhost:8080/"
        },
        "id": "PF0qfNAlB1Mu",
        "outputId": "cac22237-4f3f-4650-ae6b-f1f512886bbb"
      },
      "outputs": [
        {
          "data": {
            "text/plain": [
              "array([nan, 'Cultural', 'Religious'], dtype=object)"
            ]
          },
          "execution_count": 26,
          "metadata": {},
          "output_type": "execute_result"
        }
      ],
      "source": [
        "df_cal['event_type_2'].unique()"
      ]
    },
    {
      "cell_type": "code",
      "execution_count": 27,
      "metadata": {
        "colab": {
          "base_uri": "https://localhost:8080/",
          "height": 206
        },
        "id": "-GFmIkbPCuzn",
        "outputId": "9e01b987-0304-4e02-a31e-add10a69ac17"
      },
      "outputs": [
        {
          "data": {
            "text/html": [
              "<div>\n",
              "<style scoped>\n",
              "    .dataframe tbody tr th:only-of-type {\n",
              "        vertical-align: middle;\n",
              "    }\n",
              "\n",
              "    .dataframe tbody tr th {\n",
              "        vertical-align: top;\n",
              "    }\n",
              "\n",
              "    .dataframe thead th {\n",
              "        text-align: right;\n",
              "    }\n",
              "</style>\n",
              "<table border=\"1\" class=\"dataframe\">\n",
              "  <thead>\n",
              "    <tr style=\"text-align: right;\">\n",
              "      <th></th>\n",
              "      <th>date</th>\n",
              "      <th>week_id</th>\n",
              "      <th>event_name_1</th>\n",
              "      <th>event_type_1</th>\n",
              "      <th>event_name_2</th>\n",
              "      <th>event_type_2</th>\n",
              "      <th>snap</th>\n",
              "    </tr>\n",
              "  </thead>\n",
              "  <tbody>\n",
              "    <tr>\n",
              "      <th>404</th>\n",
              "      <td>2012-04-08</td>\n",
              "      <td>11211</td>\n",
              "      <td>Easter</td>\n",
              "      <td>Cultural</td>\n",
              "      <td>NaN</td>\n",
              "      <td>NaN</td>\n",
              "      <td>1</td>\n",
              "    </tr>\n",
              "    <tr>\n",
              "      <th>761</th>\n",
              "      <td>2013-03-31</td>\n",
              "      <td>11310</td>\n",
              "      <td>Easter</td>\n",
              "      <td>Cultural</td>\n",
              "      <td>NaN</td>\n",
              "      <td>NaN</td>\n",
              "      <td>0</td>\n",
              "    </tr>\n",
              "    <tr>\n",
              "      <th>1146</th>\n",
              "      <td>2014-04-20</td>\n",
              "      <td>11412</td>\n",
              "      <td>Easter</td>\n",
              "      <td>Cultural</td>\n",
              "      <td>OrthodoxEaster</td>\n",
              "      <td>Religious</td>\n",
              "      <td>0</td>\n",
              "    </tr>\n",
              "    <tr>\n",
              "      <th>1496</th>\n",
              "      <td>2015-04-05</td>\n",
              "      <td>11510</td>\n",
              "      <td>Easter</td>\n",
              "      <td>Cultural</td>\n",
              "      <td>NaN</td>\n",
              "      <td>NaN</td>\n",
              "      <td>1</td>\n",
              "    </tr>\n",
              "    <tr>\n",
              "      <th>1853</th>\n",
              "      <td>2016-03-27</td>\n",
              "      <td>11609</td>\n",
              "      <td>Easter</td>\n",
              "      <td>Cultural</td>\n",
              "      <td>NaN</td>\n",
              "      <td>NaN</td>\n",
              "      <td>0</td>\n",
              "    </tr>\n",
              "  </tbody>\n",
              "</table>\n",
              "</div>"
            ],
            "text/plain": [
              "            date  week_id event_name_1 event_type_1    event_name_2  \\\n",
              "404   2012-04-08    11211       Easter     Cultural             NaN   \n",
              "761   2013-03-31    11310       Easter     Cultural             NaN   \n",
              "1146  2014-04-20    11412       Easter     Cultural  OrthodoxEaster   \n",
              "1496  2015-04-05    11510       Easter     Cultural             NaN   \n",
              "1853  2016-03-27    11609       Easter     Cultural             NaN   \n",
              "\n",
              "     event_type_2  snap  \n",
              "404           NaN     1  \n",
              "761           NaN     0  \n",
              "1146    Religious     0  \n",
              "1496          NaN     1  \n",
              "1853          NaN     0  "
            ]
          },
          "execution_count": 27,
          "metadata": {},
          "output_type": "execute_result"
        }
      ],
      "source": [
        "df_cal[df_cal['event_name_1'] == 'Easter']"
      ]
    },
    {
      "cell_type": "code",
      "execution_count": 28,
      "metadata": {
        "colab": {
          "base_uri": "https://localhost:8080/",
          "height": 81
        },
        "id": "0SS-e9FRCB03",
        "outputId": "66e4cf62-7ab5-4661-c155-ad1f99c07ff6"
      },
      "outputs": [
        {
          "data": {
            "text/html": [
              "<div>\n",
              "<style scoped>\n",
              "    .dataframe tbody tr th:only-of-type {\n",
              "        vertical-align: middle;\n",
              "    }\n",
              "\n",
              "    .dataframe tbody tr th {\n",
              "        vertical-align: top;\n",
              "    }\n",
              "\n",
              "    .dataframe thead th {\n",
              "        text-align: right;\n",
              "    }\n",
              "</style>\n",
              "<table border=\"1\" class=\"dataframe\">\n",
              "  <thead>\n",
              "    <tr style=\"text-align: right;\">\n",
              "      <th></th>\n",
              "      <th>date</th>\n",
              "      <th>week_id</th>\n",
              "      <th>event_name_1</th>\n",
              "      <th>event_type_1</th>\n",
              "      <th>event_name_2</th>\n",
              "      <th>event_type_2</th>\n",
              "      <th>snap</th>\n",
              "    </tr>\n",
              "  </thead>\n",
              "  <tbody>\n",
              "    <tr>\n",
              "      <th>54</th>\n",
              "      <td>2011-04-24</td>\n",
              "      <td>11113</td>\n",
              "      <td>OrthodoxEaster</td>\n",
              "      <td>Religious</td>\n",
              "      <td>Easter</td>\n",
              "      <td>Cultural</td>\n",
              "      <td>0</td>\n",
              "    </tr>\n",
              "  </tbody>\n",
              "</table>\n",
              "</div>"
            ],
            "text/plain": [
              "          date  week_id    event_name_1 event_type_1 event_name_2  \\\n",
              "54  2011-04-24    11113  OrthodoxEaster    Religious       Easter   \n",
              "\n",
              "   event_type_2  snap  \n",
              "54     Cultural     0  "
            ]
          },
          "execution_count": 28,
          "metadata": {},
          "output_type": "execute_result"
        }
      ],
      "source": [
        "df_cal[df_cal['event_name_2'] == 'Easter']"
      ]
    },
    {
      "cell_type": "markdown",
      "metadata": {
        "id": "RwX0vO8VCvjR"
      },
      "source": [
        "2 Events wahrscheinlich falls 2 Feiertage am selben Tag stattfinden.\n"
      ]
    },
    {
      "cell_type": "code",
      "execution_count": 29,
      "metadata": {
        "colab": {
          "base_uri": "https://localhost:8080/"
        },
        "id": "YmY_FXQkEvu7",
        "outputId": "ed2fd444-b9fe-44c8-8934-585e78ced2a2"
      },
      "outputs": [
        {
          "data": {
            "text/plain": [
              "0    1248\n",
              "1     610\n",
              "Name: snap, dtype: int64"
            ]
          },
          "execution_count": 29,
          "metadata": {},
          "output_type": "execute_result"
        }
      ],
      "source": [
        "df_cal['snap'].value_counts()"
      ]
    },
    {
      "cell_type": "code",
      "execution_count": 30,
      "metadata": {
        "id": "C8yKQ756Swko"
      },
      "outputs": [],
      "source": [
        "snap_test = df_cal[(df_cal['week_id']>=11105)&(df_cal['week_id']<=11130)]"
      ]
    },
    {
      "cell_type": "code",
      "execution_count": 31,
      "metadata": {
        "colab": {
          "base_uri": "https://localhost:8080/",
          "height": 645
        },
        "id": "OuREXsMRHIim",
        "outputId": "a49134c8-bf45-4e8d-ddcb-180dfd6af596"
      },
      "outputs": [
        {
          "name": "stderr",
          "output_type": "stream",
          "text": [
            "No artists with labels found to put in legend.  Note that artists whose label start with an underscore are ignored when legend() is called with no argument.\n"
          ]
        },
        {
          "data": {
            "image/png": "[encoded data removed]",
            "text/plain": [
              "<Figure size 1000x1000 with 1 Axes>"
            ]
          },
          "metadata": {},
          "output_type": "display_data"
        }
      ],
      "source": [
        "plt.plot(snap_test['week_id'],snap_test['snap'])\n",
        "plt.title('SNAP!')\n",
        "plt.xlabel(\"week_id\")\n",
        "plt.ylabel(\"snap\")\n",
        "plt.legend(loc='upper right')\n",
        "plt.show()"
      ]
    },
    {
      "cell_type": "markdown",
      "metadata": {
        "id": "-mWDEOf5TOP9"
      },
      "source": [
        "Dauer des Snap Angebots ist immer unterschiedlich lang."
      ]
    },
    {
      "cell_type": "markdown",
      "metadata": {
        "id": "Z8nwM3lMICbp"
      },
      "source": [
        "Differenzen zwischen Snap tagen anschauen.\n"
      ]
    },
    {
      "cell_type": "markdown",
      "metadata": {
        "id": "afpWY8C8Ax2V"
      },
      "source": [
        "###Prices"
      ]
    },
    {
      "cell_type": "code",
      "execution_count": 32,
      "metadata": {
        "colab": {
          "base_uri": "https://localhost:8080/",
          "height": 423
        },
        "id": "mtqMrnLmIoys",
        "outputId": "948b0f2c-632c-4ad1-eb24-dd46fda9678f"
      },
      "outputs": [
        {
          "data": {
            "text/html": [
              "<div>\n",
              "<style scoped>\n",
              "    .dataframe tbody tr th:only-of-type {\n",
              "        vertical-align: middle;\n",
              "    }\n",
              "\n",
              "    .dataframe tbody tr th {\n",
              "        vertical-align: top;\n",
              "    }\n",
              "\n",
              "    .dataframe thead th {\n",
              "        text-align: right;\n",
              "    }\n",
              "</style>\n",
              "<table border=\"1\" class=\"dataframe\">\n",
              "  <thead>\n",
              "    <tr style=\"text-align: right;\">\n",
              "      <th></th>\n",
              "      <th>item_id</th>\n",
              "      <th>week_id</th>\n",
              "      <th>price</th>\n",
              "    </tr>\n",
              "  </thead>\n",
              "  <tbody>\n",
              "    <tr>\n",
              "      <th>0</th>\n",
              "      <td>HOBBIES_1_001</td>\n",
              "      <td>11325</td>\n",
              "      <td>9.58</td>\n",
              "    </tr>\n",
              "    <tr>\n",
              "      <th>1</th>\n",
              "      <td>HOBBIES_1_001</td>\n",
              "      <td>11326</td>\n",
              "      <td>9.58</td>\n",
              "    </tr>\n",
              "    <tr>\n",
              "      <th>2</th>\n",
              "      <td>HOBBIES_1_001</td>\n",
              "      <td>11327</td>\n",
              "      <td>8.26</td>\n",
              "    </tr>\n",
              "    <tr>\n",
              "      <th>3</th>\n",
              "      <td>HOBBIES_1_001</td>\n",
              "      <td>11328</td>\n",
              "      <td>8.26</td>\n",
              "    </tr>\n",
              "    <tr>\n",
              "      <th>4</th>\n",
              "      <td>HOBBIES_1_001</td>\n",
              "      <td>11329</td>\n",
              "      <td>8.26</td>\n",
              "    </tr>\n",
              "    <tr>\n",
              "      <th>...</th>\n",
              "      <td>...</td>\n",
              "      <td>...</td>\n",
              "      <td>...</td>\n",
              "    </tr>\n",
              "    <tr>\n",
              "      <th>656545</th>\n",
              "      <td>FOODS_3_827</td>\n",
              "      <td>11605</td>\n",
              "      <td>1.00</td>\n",
              "    </tr>\n",
              "    <tr>\n",
              "      <th>656546</th>\n",
              "      <td>FOODS_3_827</td>\n",
              "      <td>11606</td>\n",
              "      <td>1.00</td>\n",
              "    </tr>\n",
              "    <tr>\n",
              "      <th>656547</th>\n",
              "      <td>FOODS_3_827</td>\n",
              "      <td>11607</td>\n",
              "      <td>1.00</td>\n",
              "    </tr>\n",
              "    <tr>\n",
              "      <th>656548</th>\n",
              "      <td>FOODS_3_827</td>\n",
              "      <td>11608</td>\n",
              "      <td>1.00</td>\n",
              "    </tr>\n",
              "    <tr>\n",
              "      <th>656549</th>\n",
              "      <td>FOODS_3_827</td>\n",
              "      <td>11609</td>\n",
              "      <td>1.00</td>\n",
              "    </tr>\n",
              "  </tbody>\n",
              "</table>\n",
              "<p>656550 rows × 3 columns</p>\n",
              "</div>"
            ],
            "text/plain": [
              "              item_id  week_id  price\n",
              "0       HOBBIES_1_001    11325   9.58\n",
              "1       HOBBIES_1_001    11326   9.58\n",
              "2       HOBBIES_1_001    11327   8.26\n",
              "3       HOBBIES_1_001    11328   8.26\n",
              "4       HOBBIES_1_001    11329   8.26\n",
              "...               ...      ...    ...\n",
              "656545    FOODS_3_827    11605   1.00\n",
              "656546    FOODS_3_827    11606   1.00\n",
              "656547    FOODS_3_827    11607   1.00\n",
              "656548    FOODS_3_827    11608   1.00\n",
              "656549    FOODS_3_827    11609   1.00\n",
              "\n",
              "[656550 rows x 3 columns]"
            ]
          },
          "execution_count": 32,
          "metadata": {},
          "output_type": "execute_result"
        }
      ],
      "source": [
        "df_price = df_price.drop(columns=['Unnamed: 0'])\n",
        "df_price"
      ]
    },
    {
      "cell_type": "code",
      "execution_count": 33,
      "metadata": {
        "colab": {
          "base_uri": "https://localhost:8080/"
        },
        "id": "SkXG9ZWtIe0B",
        "outputId": "cae7b519-1f7a-4b5c-de7b-de88263a3dea"
      },
      "outputs": [
        {
          "name": "stdout",
          "output_type": "stream",
          "text": [
            "<class 'pandas.core.frame.DataFrame'>\n",
            "RangeIndex: 656550 entries, 0 to 656549\n",
            "Data columns (total 3 columns):\n",
            " #   Column   Non-Null Count   Dtype  \n",
            "---  ------   --------------   -----  \n",
            " 0   item_id  656550 non-null  object \n",
            " 1   week_id  656550 non-null  int64  \n",
            " 2   price    656550 non-null  float64\n",
            "dtypes: float64(1), int64(1), object(1)\n",
            "memory usage: 15.0+ MB\n"
          ]
        }
      ],
      "source": [
        "df_price.info()"
      ]
    },
    {
      "cell_type": "markdown",
      "metadata": {
        "id": "AqDY-fBFIwlF"
      },
      "source": [
        "Price = durchschnittlicher Verkaufspreis der jeweiligen Woche\n",
        "\n",
        "Keine Nan's"
      ]
    },
    {
      "cell_type": "code",
      "execution_count": 34,
      "metadata": {
        "colab": {
          "base_uri": "https://localhost:8080/"
        },
        "id": "C0LdjA3KIz7n",
        "outputId": "104d98da-1c25-4368-8450-d7f7f9ee8c26"
      },
      "outputs": [
        {
          "data": {
            "text/plain": [
              "HOUSEHOLD_2_429    266\n",
              "HOUSEHOLD_2_368    266\n",
              "HOUSEHOLD_2_384    266\n",
              "HOUSEHOLD_2_383    266\n",
              "FOODS_3_495        266\n",
              "                  ... \n",
              "FOODS_2_248         23\n",
              "FOODS_2_117         14\n",
              "FOODS_2_209         14\n",
              "FOODS_3_296         11\n",
              "FOODS_3_595          7\n",
              "Name: item_id, Length: 3049, dtype: int64"
            ]
          },
          "execution_count": 34,
          "metadata": {},
          "output_type": "execute_result"
        }
      ],
      "source": [
        "df_price['item_id'].value_counts()"
      ]
    },
    {
      "cell_type": "code",
      "execution_count": 35,
      "metadata": {
        "colab": {
          "base_uri": "https://localhost:8080/"
        },
        "id": "gu3R5VBmI4EZ",
        "outputId": "cad52f81-e5ee-4a55-8930-dabc9cafbe07"
      },
      "outputs": [
        {
          "data": {
            "text/plain": [
              "count    656550.000000\n",
              "mean          4.412243\n",
              "std           3.395917\n",
              "min           0.010000\n",
              "25%           2.220000\n",
              "50%           3.470000\n",
              "75%           5.770000\n",
              "max          30.980000\n",
              "Name: price, dtype: float64"
            ]
          },
          "execution_count": 35,
          "metadata": {},
          "output_type": "execute_result"
        }
      ],
      "source": [
        "df_price['price'].describe()"
      ]
    },
    {
      "cell_type": "code",
      "execution_count": 36,
      "metadata": {
        "colab": {
          "base_uri": "https://localhost:8080/",
          "height": 175
        },
        "id": "qDGdYHEtJvmZ",
        "outputId": "2cec8e07-7a2d-482a-d0f3-7274ecdd2f5c"
      },
      "outputs": [
        {
          "data": {
            "text/html": [
              "<div>\n",
              "<style scoped>\n",
              "    .dataframe tbody tr th:only-of-type {\n",
              "        vertical-align: middle;\n",
              "    }\n",
              "\n",
              "    .dataframe tbody tr th {\n",
              "        vertical-align: top;\n",
              "    }\n",
              "\n",
              "    .dataframe thead th {\n",
              "        text-align: right;\n",
              "    }\n",
              "</style>\n",
              "<table border=\"1\" class=\"dataframe\">\n",
              "  <thead>\n",
              "    <tr style=\"text-align: right;\">\n",
              "      <th></th>\n",
              "      <th>price</th>\n",
              "    </tr>\n",
              "    <tr>\n",
              "      <th>item_id</th>\n",
              "      <th></th>\n",
              "    </tr>\n",
              "  </thead>\n",
              "  <tbody>\n",
              "    <tr>\n",
              "      <th>HOBBIES_1_060</th>\n",
              "      <td>110</td>\n",
              "    </tr>\n",
              "    <tr>\n",
              "      <th>HOBBIES_1_225</th>\n",
              "      <td>109</td>\n",
              "    </tr>\n",
              "    <tr>\n",
              "      <th>HOBBIES_1_361</th>\n",
              "      <td>109</td>\n",
              "    </tr>\n",
              "  </tbody>\n",
              "</table>\n",
              "</div>"
            ],
            "text/plain": [
              "               price\n",
              "item_id             \n",
              "HOBBIES_1_060    110\n",
              "HOBBIES_1_225    109\n",
              "HOBBIES_1_361    109"
            ]
          },
          "execution_count": 36,
          "metadata": {},
          "output_type": "execute_result"
        }
      ],
      "source": [
        "df_price[['item_id','price']][df_price['price']>30].groupby(by='item_id').count()"
      ]
    },
    {
      "cell_type": "markdown",
      "metadata": {
        "id": "d5SHUDWxMiXK"
      },
      "source": [
        "Items mit einem Verkaufspreis in der jeweiligen Woche mit einem Preis >30"
      ]
    },
    {
      "cell_type": "code",
      "execution_count": 37,
      "metadata": {
        "colab": {
          "base_uri": "https://localhost:8080/"
        },
        "id": "24zTLk-9LZY7",
        "outputId": "ca6932cf-2649-4fbc-8436-1e6f26a77881"
      },
      "outputs": [
        {
          "data": {
            "text/plain": [
              "11608    3049\n",
              "11609    3049\n",
              "11607    3049\n",
              "11606    3049\n",
              "11605    3049\n",
              "         ... \n",
              "11109    1509\n",
              "11108    1490\n",
              "11107    1471\n",
              "11106    1445\n",
              "11105    1413\n",
              "Name: week_id, Length: 266, dtype: int64"
            ]
          },
          "execution_count": 37,
          "metadata": {},
          "output_type": "execute_result"
        }
      ],
      "source": [
        "df_price['week_id'].value_counts()"
      ]
    },
    {
      "cell_type": "markdown",
      "metadata": {
        "id": "fn_j7Z7lLzKw"
      },
      "source": [
        "In unterschiedlichen Wochen "
      ]
    },
    {
      "cell_type": "markdown",
      "metadata": {
        "id": "Wq38HaGuA1he"
      },
      "source": [
        "###Sales"
      ]
    },
    {
      "cell_type": "markdown",
      "metadata": {
        "id": "YYsKigjPN9n_"
      },
      "source": [
        "Sales = Abverkauf in Stück pro Produkt pro Tag (auch wenn das Produkt nicht verkauft wurde)\n",
        "\n"
      ]
    },
    {
      "cell_type": "code",
      "execution_count": 38,
      "metadata": {
        "colab": {
          "base_uri": "https://localhost:8080/"
        },
        "id": "XUno08XCNOIz",
        "outputId": "4843c592-2137-4e0b-a514-d1d6220b56ba"
      },
      "outputs": [
        {
          "name": "stdout",
          "output_type": "stream",
          "text": [
            "<class 'pandas.core.frame.DataFrame'>\n",
            "RangeIndex: 5570523 entries, 0 to 5570522\n",
            "Data columns (total 5 columns):\n",
            " #   Column   Dtype \n",
            "---  ------   ----- \n",
            " 0   date     object\n",
            " 1   item_id  object\n",
            " 2   dept_id  object\n",
            " 3   cat_id   object\n",
            " 4   sales    int64 \n",
            "dtypes: int64(1), object(4)\n",
            "memory usage: 212.5+ MB\n"
          ]
        }
      ],
      "source": [
        "df_sales.info()"
      ]
    },
    {
      "cell_type": "code",
      "execution_count": 39,
      "metadata": {
        "colab": {
          "base_uri": "https://localhost:8080/",
          "height": 49
        },
        "id": "fO7kdxmWNT_X",
        "outputId": "925a87e9-abb3-436a-9223-01fc9683f1af"
      },
      "outputs": [
        {
          "data": {
            "text/html": [
              "<div>\n",
              "<style scoped>\n",
              "    .dataframe tbody tr th:only-of-type {\n",
              "        vertical-align: middle;\n",
              "    }\n",
              "\n",
              "    .dataframe tbody tr th {\n",
              "        vertical-align: top;\n",
              "    }\n",
              "\n",
              "    .dataframe thead th {\n",
              "        text-align: right;\n",
              "    }\n",
              "</style>\n",
              "<table border=\"1\" class=\"dataframe\">\n",
              "  <thead>\n",
              "    <tr style=\"text-align: right;\">\n",
              "      <th></th>\n",
              "      <th>date</th>\n",
              "      <th>item_id</th>\n",
              "      <th>dept_id</th>\n",
              "      <th>cat_id</th>\n",
              "      <th>sales</th>\n",
              "    </tr>\n",
              "  </thead>\n",
              "  <tbody>\n",
              "  </tbody>\n",
              "</table>\n",
              "</div>"
            ],
            "text/plain": [
              "Empty DataFrame\n",
              "Columns: [date, item_id, dept_id, cat_id, sales]\n",
              "Index: []"
            ]
          },
          "execution_count": 39,
          "metadata": {},
          "output_type": "execute_result"
        }
      ],
      "source": [
        "df_sales[df_sales['sales'].isna()]"
      ]
    },
    {
      "cell_type": "code",
      "execution_count": 40,
      "metadata": {
        "colab": {
          "base_uri": "https://localhost:8080/"
        },
        "id": "I7Yb5CwXN67_",
        "outputId": "76135694-e2f9-4d9c-fcaa-ae78d25f6de6"
      },
      "outputs": [
        {
          "data": {
            "text/plain": [
              "count    5.570523e+06\n",
              "mean     1.319099e+00\n",
              "std      4.069521e+00\n",
              "min      0.000000e+00\n",
              "25%      0.000000e+00\n",
              "50%      0.000000e+00\n",
              "75%      1.000000e+00\n",
              "max      6.480000e+02\n",
              "Name: sales, dtype: float64"
            ]
          },
          "execution_count": 40,
          "metadata": {},
          "output_type": "execute_result"
        }
      ],
      "source": [
        "df_sales['sales'].describe()"
      ]
    },
    {
      "cell_type": "code",
      "execution_count": 41,
      "metadata": {
        "colab": {
          "base_uri": "https://localhost:8080/",
          "height": 423
        },
        "id": "mhUw-gWlODIo",
        "outputId": "a7b98c2a-3902-438d-dc24-f24f3840efae"
      },
      "outputs": [
        {
          "data": {
            "text/html": [
              "<div>\n",
              "<style scoped>\n",
              "    .dataframe tbody tr th:only-of-type {\n",
              "        vertical-align: middle;\n",
              "    }\n",
              "\n",
              "    .dataframe tbody tr th {\n",
              "        vertical-align: top;\n",
              "    }\n",
              "\n",
              "    .dataframe thead th {\n",
              "        text-align: right;\n",
              "    }\n",
              "</style>\n",
              "<table border=\"1\" class=\"dataframe\">\n",
              "  <thead>\n",
              "    <tr style=\"text-align: right;\">\n",
              "      <th></th>\n",
              "      <th>date</th>\n",
              "      <th>item_id</th>\n",
              "      <th>dept_id</th>\n",
              "      <th>cat_id</th>\n",
              "      <th>sales</th>\n",
              "    </tr>\n",
              "  </thead>\n",
              "  <tbody>\n",
              "    <tr>\n",
              "      <th>0</th>\n",
              "      <td>2011-03-01</td>\n",
              "      <td>HOBBIES_1_001</td>\n",
              "      <td>HOBBIES_1</td>\n",
              "      <td>HOBBIES</td>\n",
              "      <td>0</td>\n",
              "    </tr>\n",
              "    <tr>\n",
              "      <th>1</th>\n",
              "      <td>2011-03-01</td>\n",
              "      <td>HOBBIES_1_002</td>\n",
              "      <td>HOBBIES_1</td>\n",
              "      <td>HOBBIES</td>\n",
              "      <td>0</td>\n",
              "    </tr>\n",
              "    <tr>\n",
              "      <th>2</th>\n",
              "      <td>2011-03-01</td>\n",
              "      <td>HOBBIES_1_003</td>\n",
              "      <td>HOBBIES_1</td>\n",
              "      <td>HOBBIES</td>\n",
              "      <td>0</td>\n",
              "    </tr>\n",
              "    <tr>\n",
              "      <th>3</th>\n",
              "      <td>2011-03-01</td>\n",
              "      <td>HOBBIES_1_004</td>\n",
              "      <td>HOBBIES_1</td>\n",
              "      <td>HOBBIES</td>\n",
              "      <td>0</td>\n",
              "    </tr>\n",
              "    <tr>\n",
              "      <th>4</th>\n",
              "      <td>2011-03-01</td>\n",
              "      <td>HOBBIES_1_005</td>\n",
              "      <td>HOBBIES_1</td>\n",
              "      <td>HOBBIES</td>\n",
              "      <td>0</td>\n",
              "    </tr>\n",
              "    <tr>\n",
              "      <th>...</th>\n",
              "      <td>...</td>\n",
              "      <td>...</td>\n",
              "      <td>...</td>\n",
              "      <td>...</td>\n",
              "      <td>...</td>\n",
              "    </tr>\n",
              "    <tr>\n",
              "      <th>5570512</th>\n",
              "      <td>2016-02-29</td>\n",
              "      <td>FOODS_3_817</td>\n",
              "      <td>FOODS_3</td>\n",
              "      <td>FOODS</td>\n",
              "      <td>0</td>\n",
              "    </tr>\n",
              "    <tr>\n",
              "      <th>5570515</th>\n",
              "      <td>2016-02-29</td>\n",
              "      <td>FOODS_3_820</td>\n",
              "      <td>FOODS_3</td>\n",
              "      <td>FOODS</td>\n",
              "      <td>0</td>\n",
              "    </tr>\n",
              "    <tr>\n",
              "      <th>5570516</th>\n",
              "      <td>2016-02-29</td>\n",
              "      <td>FOODS_3_821</td>\n",
              "      <td>FOODS_3</td>\n",
              "      <td>FOODS</td>\n",
              "      <td>0</td>\n",
              "    </tr>\n",
              "    <tr>\n",
              "      <th>5570519</th>\n",
              "      <td>2016-02-29</td>\n",
              "      <td>FOODS_3_824</td>\n",
              "      <td>FOODS_3</td>\n",
              "      <td>FOODS</td>\n",
              "      <td>0</td>\n",
              "    </tr>\n",
              "    <tr>\n",
              "      <th>5570520</th>\n",
              "      <td>2016-02-29</td>\n",
              "      <td>FOODS_3_825</td>\n",
              "      <td>FOODS_3</td>\n",
              "      <td>FOODS</td>\n",
              "      <td>0</td>\n",
              "    </tr>\n",
              "  </tbody>\n",
              "</table>\n",
              "<p>3568017 rows × 5 columns</p>\n",
              "</div>"
            ],
            "text/plain": [
              "               date        item_id    dept_id   cat_id  sales\n",
              "0        2011-03-01  HOBBIES_1_001  HOBBIES_1  HOBBIES      0\n",
              "1        2011-03-01  HOBBIES_1_002  HOBBIES_1  HOBBIES      0\n",
              "2        2011-03-01  HOBBIES_1_003  HOBBIES_1  HOBBIES      0\n",
              "3        2011-03-01  HOBBIES_1_004  HOBBIES_1  HOBBIES      0\n",
              "4        2011-03-01  HOBBIES_1_005  HOBBIES_1  HOBBIES      0\n",
              "...             ...            ...        ...      ...    ...\n",
              "5570512  2016-02-29    FOODS_3_817    FOODS_3    FOODS      0\n",
              "5570515  2016-02-29    FOODS_3_820    FOODS_3    FOODS      0\n",
              "5570516  2016-02-29    FOODS_3_821    FOODS_3    FOODS      0\n",
              "5570519  2016-02-29    FOODS_3_824    FOODS_3    FOODS      0\n",
              "5570520  2016-02-29    FOODS_3_825    FOODS_3    FOODS      0\n",
              "\n",
              "[3568017 rows x 5 columns]"
            ]
          },
          "execution_count": 41,
          "metadata": {},
          "output_type": "execute_result"
        }
      ],
      "source": [
        "df_sales[df_sales['sales']==0]"
      ]
    },
    {
      "cell_type": "code",
      "execution_count": 42,
      "metadata": {
        "colab": {
          "base_uri": "https://localhost:8080/",
          "height": 423
        },
        "id": "ALat01JaOvT6",
        "outputId": "d4e6e42b-2b14-4b3b-ec42-0ef1333de1c9"
      },
      "outputs": [
        {
          "data": {
            "text/html": [
              "<div>\n",
              "<style scoped>\n",
              "    .dataframe tbody tr th:only-of-type {\n",
              "        vertical-align: middle;\n",
              "    }\n",
              "\n",
              "    .dataframe tbody tr th {\n",
              "        vertical-align: top;\n",
              "    }\n",
              "\n",
              "    .dataframe thead th {\n",
              "        text-align: right;\n",
              "    }\n",
              "</style>\n",
              "<table border=\"1\" class=\"dataframe\">\n",
              "  <thead>\n",
              "    <tr style=\"text-align: right;\">\n",
              "      <th></th>\n",
              "      <th>date</th>\n",
              "      <th>item_id</th>\n",
              "      <th>dept_id</th>\n",
              "      <th>cat_id</th>\n",
              "      <th>sales</th>\n",
              "    </tr>\n",
              "  </thead>\n",
              "  <tbody>\n",
              "    <tr>\n",
              "      <th>0</th>\n",
              "      <td>2011-03-01</td>\n",
              "      <td>HOBBIES_1_001</td>\n",
              "      <td>HOBBIES_1</td>\n",
              "      <td>HOBBIES</td>\n",
              "      <td>0</td>\n",
              "    </tr>\n",
              "    <tr>\n",
              "      <th>1</th>\n",
              "      <td>2011-03-01</td>\n",
              "      <td>HOBBIES_1_002</td>\n",
              "      <td>HOBBIES_1</td>\n",
              "      <td>HOBBIES</td>\n",
              "      <td>0</td>\n",
              "    </tr>\n",
              "    <tr>\n",
              "      <th>2</th>\n",
              "      <td>2011-03-01</td>\n",
              "      <td>HOBBIES_1_003</td>\n",
              "      <td>HOBBIES_1</td>\n",
              "      <td>HOBBIES</td>\n",
              "      <td>0</td>\n",
              "    </tr>\n",
              "    <tr>\n",
              "      <th>3</th>\n",
              "      <td>2011-03-01</td>\n",
              "      <td>HOBBIES_1_004</td>\n",
              "      <td>HOBBIES_1</td>\n",
              "      <td>HOBBIES</td>\n",
              "      <td>0</td>\n",
              "    </tr>\n",
              "    <tr>\n",
              "      <th>4</th>\n",
              "      <td>2011-03-01</td>\n",
              "      <td>HOBBIES_1_005</td>\n",
              "      <td>HOBBIES_1</td>\n",
              "      <td>HOBBIES</td>\n",
              "      <td>0</td>\n",
              "    </tr>\n",
              "    <tr>\n",
              "      <th>...</th>\n",
              "      <td>...</td>\n",
              "      <td>...</td>\n",
              "      <td>...</td>\n",
              "      <td>...</td>\n",
              "      <td>...</td>\n",
              "    </tr>\n",
              "    <tr>\n",
              "      <th>3044</th>\n",
              "      <td>2011-03-01</td>\n",
              "      <td>FOODS_3_823</td>\n",
              "      <td>FOODS_3</td>\n",
              "      <td>FOODS</td>\n",
              "      <td>0</td>\n",
              "    </tr>\n",
              "    <tr>\n",
              "      <th>3045</th>\n",
              "      <td>2011-03-01</td>\n",
              "      <td>FOODS_3_824</td>\n",
              "      <td>FOODS_3</td>\n",
              "      <td>FOODS</td>\n",
              "      <td>0</td>\n",
              "    </tr>\n",
              "    <tr>\n",
              "      <th>3046</th>\n",
              "      <td>2011-03-01</td>\n",
              "      <td>FOODS_3_825</td>\n",
              "      <td>FOODS_3</td>\n",
              "      <td>FOODS</td>\n",
              "      <td>0</td>\n",
              "    </tr>\n",
              "    <tr>\n",
              "      <th>3047</th>\n",
              "      <td>2011-03-01</td>\n",
              "      <td>FOODS_3_826</td>\n",
              "      <td>FOODS_3</td>\n",
              "      <td>FOODS</td>\n",
              "      <td>0</td>\n",
              "    </tr>\n",
              "    <tr>\n",
              "      <th>3048</th>\n",
              "      <td>2011-03-01</td>\n",
              "      <td>FOODS_3_827</td>\n",
              "      <td>FOODS_3</td>\n",
              "      <td>FOODS</td>\n",
              "      <td>0</td>\n",
              "    </tr>\n",
              "  </tbody>\n",
              "</table>\n",
              "<p>3049 rows × 5 columns</p>\n",
              "</div>"
            ],
            "text/plain": [
              "            date        item_id    dept_id   cat_id  sales\n",
              "0     2011-03-01  HOBBIES_1_001  HOBBIES_1  HOBBIES      0\n",
              "1     2011-03-01  HOBBIES_1_002  HOBBIES_1  HOBBIES      0\n",
              "2     2011-03-01  HOBBIES_1_003  HOBBIES_1  HOBBIES      0\n",
              "3     2011-03-01  HOBBIES_1_004  HOBBIES_1  HOBBIES      0\n",
              "4     2011-03-01  HOBBIES_1_005  HOBBIES_1  HOBBIES      0\n",
              "...          ...            ...        ...      ...    ...\n",
              "3044  2011-03-01    FOODS_3_823    FOODS_3    FOODS      0\n",
              "3045  2011-03-01    FOODS_3_824    FOODS_3    FOODS      0\n",
              "3046  2011-03-01    FOODS_3_825    FOODS_3    FOODS      0\n",
              "3047  2011-03-01    FOODS_3_826    FOODS_3    FOODS      0\n",
              "3048  2011-03-01    FOODS_3_827    FOODS_3    FOODS      0\n",
              "\n",
              "[3049 rows x 5 columns]"
            ]
          },
          "execution_count": 42,
          "metadata": {},
          "output_type": "execute_result"
        }
      ],
      "source": [
        "df_sales[df_sales['date']=='2011-03-01']"
      ]
    },
    {
      "cell_type": "markdown",
      "metadata": {
        "id": "ga8suwmwO-if"
      },
      "source": [
        "Alle 3049 Produkte haben für jedes Date eine Verkaufsanzahl."
      ]
    },
    {
      "cell_type": "code",
      "execution_count": 43,
      "metadata": {
        "colab": {
          "base_uri": "https://localhost:8080/",
          "height": 701
        },
        "id": "rP_1tn1HPItq",
        "outputId": "dea39920-ffea-4516-fc14-769b41d4e6dd"
      },
      "outputs": [
        {
          "name": "stderr",
          "output_type": "stream",
          "text": [
            "C:\\Users\\edwin\\AppData\\Local\\Temp\\ipykernel_19124\\474284637.py:1: FutureWarning: The default value of numeric_only in DataFrameGroupBy.sum is deprecated. In a future version, numeric_only will default to False. Either specify numeric_only or select only columns which should be valid for the function.\n",
            "  df_sales.groupby(by='cat_id').sum().plot.bar()\n"
          ]
        },
        {
          "data": {
            "text/plain": [
              "<AxesSubplot: xlabel='cat_id'>"
            ]
          },
          "execution_count": 43,
          "metadata": {},
          "output_type": "execute_result"
        },
        {
          "data": {
            "image/png": "[encoded data removed]",
            "text/plain": [
              "<Figure size 1000x1000 with 1 Axes>"
            ]
          },
          "metadata": {},
          "output_type": "display_data"
        }
      ],
      "source": [
        "df_sales.groupby(by='cat_id').sum().plot.bar()"
      ]
    },
    {
      "cell_type": "markdown",
      "metadata": {
        "id": "ps_4gQ4KT3BB"
      },
      "source": [
        "### Mergen der Datensätze\n",
        "\n",
        "Calendar und Sales über das Datum\n",
        "Price hinzufügen über die week_id\n"
      ]
    },
    {
      "cell_type": "code",
      "execution_count": 44,
      "metadata": {
        "colab": {
          "base_uri": "https://localhost:8080/",
          "height": 423
        },
        "id": "aEXeyTZmT85u",
        "outputId": "4252884a-cf3c-4194-8ae1-3a7b8a4435df"
      },
      "outputs": [
        {
          "data": {
            "text/html": [
              "<div>\n",
              "<style scoped>\n",
              "    .dataframe tbody tr th:only-of-type {\n",
              "        vertical-align: middle;\n",
              "    }\n",
              "\n",
              "    .dataframe tbody tr th {\n",
              "        vertical-align: top;\n",
              "    }\n",
              "\n",
              "    .dataframe thead th {\n",
              "        text-align: right;\n",
              "    }\n",
              "</style>\n",
              "<table border=\"1\" class=\"dataframe\">\n",
              "  <thead>\n",
              "    <tr style=\"text-align: right;\">\n",
              "      <th></th>\n",
              "      <th>date</th>\n",
              "      <th>week_id</th>\n",
              "      <th>event_name_1</th>\n",
              "      <th>event_type_1</th>\n",
              "      <th>event_name_2</th>\n",
              "      <th>event_type_2</th>\n",
              "      <th>snap</th>\n",
              "      <th>item_id</th>\n",
              "      <th>dept_id</th>\n",
              "      <th>cat_id</th>\n",
              "      <th>sales</th>\n",
              "    </tr>\n",
              "  </thead>\n",
              "  <tbody>\n",
              "    <tr>\n",
              "      <th>0</th>\n",
              "      <td>2011-03-01</td>\n",
              "      <td>11105</td>\n",
              "      <td>NaN</td>\n",
              "      <td>NaN</td>\n",
              "      <td>NaN</td>\n",
              "      <td>NaN</td>\n",
              "      <td>1</td>\n",
              "      <td>HOBBIES_1_001</td>\n",
              "      <td>HOBBIES_1</td>\n",
              "      <td>HOBBIES</td>\n",
              "      <td>0.0</td>\n",
              "    </tr>\n",
              "    <tr>\n",
              "      <th>1</th>\n",
              "      <td>2011-03-01</td>\n",
              "      <td>11105</td>\n",
              "      <td>NaN</td>\n",
              "      <td>NaN</td>\n",
              "      <td>NaN</td>\n",
              "      <td>NaN</td>\n",
              "      <td>1</td>\n",
              "      <td>HOBBIES_1_002</td>\n",
              "      <td>HOBBIES_1</td>\n",
              "      <td>HOBBIES</td>\n",
              "      <td>0.0</td>\n",
              "    </tr>\n",
              "    <tr>\n",
              "      <th>2</th>\n",
              "      <td>2011-03-01</td>\n",
              "      <td>11105</td>\n",
              "      <td>NaN</td>\n",
              "      <td>NaN</td>\n",
              "      <td>NaN</td>\n",
              "      <td>NaN</td>\n",
              "      <td>1</td>\n",
              "      <td>HOBBIES_1_003</td>\n",
              "      <td>HOBBIES_1</td>\n",
              "      <td>HOBBIES</td>\n",
              "      <td>0.0</td>\n",
              "    </tr>\n",
              "    <tr>\n",
              "      <th>3</th>\n",
              "      <td>2011-03-01</td>\n",
              "      <td>11105</td>\n",
              "      <td>NaN</td>\n",
              "      <td>NaN</td>\n",
              "      <td>NaN</td>\n",
              "      <td>NaN</td>\n",
              "      <td>1</td>\n",
              "      <td>HOBBIES_1_004</td>\n",
              "      <td>HOBBIES_1</td>\n",
              "      <td>HOBBIES</td>\n",
              "      <td>0.0</td>\n",
              "    </tr>\n",
              "    <tr>\n",
              "      <th>4</th>\n",
              "      <td>2011-03-01</td>\n",
              "      <td>11105</td>\n",
              "      <td>NaN</td>\n",
              "      <td>NaN</td>\n",
              "      <td>NaN</td>\n",
              "      <td>NaN</td>\n",
              "      <td>1</td>\n",
              "      <td>HOBBIES_1_005</td>\n",
              "      <td>HOBBIES_1</td>\n",
              "      <td>HOBBIES</td>\n",
              "      <td>0.0</td>\n",
              "    </tr>\n",
              "    <tr>\n",
              "      <th>...</th>\n",
              "      <td>...</td>\n",
              "      <td>...</td>\n",
              "      <td>...</td>\n",
              "      <td>...</td>\n",
              "      <td>...</td>\n",
              "      <td>...</td>\n",
              "      <td>...</td>\n",
              "      <td>...</td>\n",
              "      <td>...</td>\n",
              "      <td>...</td>\n",
              "      <td>...</td>\n",
              "    </tr>\n",
              "    <tr>\n",
              "      <th>5570549</th>\n",
              "      <td>2016-03-27</td>\n",
              "      <td>11609</td>\n",
              "      <td>Easter</td>\n",
              "      <td>Cultural</td>\n",
              "      <td>NaN</td>\n",
              "      <td>NaN</td>\n",
              "      <td>0</td>\n",
              "      <td>NaN</td>\n",
              "      <td>NaN</td>\n",
              "      <td>NaN</td>\n",
              "      <td>NaN</td>\n",
              "    </tr>\n",
              "    <tr>\n",
              "      <th>5570550</th>\n",
              "      <td>2016-03-28</td>\n",
              "      <td>11609</td>\n",
              "      <td>NaN</td>\n",
              "      <td>NaN</td>\n",
              "      <td>NaN</td>\n",
              "      <td>NaN</td>\n",
              "      <td>0</td>\n",
              "      <td>NaN</td>\n",
              "      <td>NaN</td>\n",
              "      <td>NaN</td>\n",
              "      <td>NaN</td>\n",
              "    </tr>\n",
              "    <tr>\n",
              "      <th>5570551</th>\n",
              "      <td>2016-03-29</td>\n",
              "      <td>11609</td>\n",
              "      <td>NaN</td>\n",
              "      <td>NaN</td>\n",
              "      <td>NaN</td>\n",
              "      <td>NaN</td>\n",
              "      <td>0</td>\n",
              "      <td>NaN</td>\n",
              "      <td>NaN</td>\n",
              "      <td>NaN</td>\n",
              "      <td>NaN</td>\n",
              "    </tr>\n",
              "    <tr>\n",
              "      <th>5570552</th>\n",
              "      <td>2016-03-30</td>\n",
              "      <td>11609</td>\n",
              "      <td>NaN</td>\n",
              "      <td>NaN</td>\n",
              "      <td>NaN</td>\n",
              "      <td>NaN</td>\n",
              "      <td>0</td>\n",
              "      <td>NaN</td>\n",
              "      <td>NaN</td>\n",
              "      <td>NaN</td>\n",
              "      <td>NaN</td>\n",
              "    </tr>\n",
              "    <tr>\n",
              "      <th>5570553</th>\n",
              "      <td>2016-03-31</td>\n",
              "      <td>11609</td>\n",
              "      <td>NaN</td>\n",
              "      <td>NaN</td>\n",
              "      <td>NaN</td>\n",
              "      <td>NaN</td>\n",
              "      <td>0</td>\n",
              "      <td>NaN</td>\n",
              "      <td>NaN</td>\n",
              "      <td>NaN</td>\n",
              "      <td>NaN</td>\n",
              "    </tr>\n",
              "  </tbody>\n",
              "</table>\n",
              "<p>5570554 rows × 11 columns</p>\n",
              "</div>"
            ],
            "text/plain": [
              "               date  week_id event_name_1 event_type_1 event_name_2  \\\n",
              "0        2011-03-01    11105          NaN          NaN          NaN   \n",
              "1        2011-03-01    11105          NaN          NaN          NaN   \n",
              "2        2011-03-01    11105          NaN          NaN          NaN   \n",
              "3        2011-03-01    11105          NaN          NaN          NaN   \n",
              "4        2011-03-01    11105          NaN          NaN          NaN   \n",
              "...             ...      ...          ...          ...          ...   \n",
              "5570549  2016-03-27    11609       Easter     Cultural          NaN   \n",
              "5570550  2016-03-28    11609          NaN          NaN          NaN   \n",
              "5570551  2016-03-29    11609          NaN          NaN          NaN   \n",
              "5570552  2016-03-30    11609          NaN          NaN          NaN   \n",
              "5570553  2016-03-31    11609          NaN          NaN          NaN   \n",
              "\n",
              "        event_type_2  snap        item_id    dept_id   cat_id  sales  \n",
              "0                NaN     1  HOBBIES_1_001  HOBBIES_1  HOBBIES    0.0  \n",
              "1                NaN     1  HOBBIES_1_002  HOBBIES_1  HOBBIES    0.0  \n",
              "2                NaN     1  HOBBIES_1_003  HOBBIES_1  HOBBIES    0.0  \n",
              "3                NaN     1  HOBBIES_1_004  HOBBIES_1  HOBBIES    0.0  \n",
              "4                NaN     1  HOBBIES_1_005  HOBBIES_1  HOBBIES    0.0  \n",
              "...              ...   ...            ...        ...      ...    ...  \n",
              "5570549          NaN     0            NaN        NaN      NaN    NaN  \n",
              "5570550          NaN     0            NaN        NaN      NaN    NaN  \n",
              "5570551          NaN     0            NaN        NaN      NaN    NaN  \n",
              "5570552          NaN     0            NaN        NaN      NaN    NaN  \n",
              "5570553          NaN     0            NaN        NaN      NaN    NaN  \n",
              "\n",
              "[5570554 rows x 11 columns]"
            ]
          },
          "execution_count": 44,
          "metadata": {},
          "output_type": "execute_result"
        }
      ],
      "source": [
        "df_calsales = pd.merge(df_cal,df_sales,how='left',on='date')\n",
        "df_calsales"
      ]
    },
    {
      "cell_type": "code",
      "execution_count": 45,
      "metadata": {
        "id": "Dq4ymHwiVTpj"
      },
      "outputs": [],
      "source": [
        "df = pd.merge(df_calsales,df_price,how='left',on=['week_id','item_id'])"
      ]
    },
    {
      "cell_type": "code",
      "execution_count": 46,
      "metadata": {
        "colab": {
          "base_uri": "https://localhost:8080/",
          "height": 423
        },
        "id": "C2sC5Xe1dz2c",
        "outputId": "8cbd59ca-96ca-4aa0-d27c-f3ed4f5fb1f8"
      },
      "outputs": [
        {
          "data": {
            "text/html": [
              "<div>\n",
              "<style scoped>\n",
              "    .dataframe tbody tr th:only-of-type {\n",
              "        vertical-align: middle;\n",
              "    }\n",
              "\n",
              "    .dataframe tbody tr th {\n",
              "        vertical-align: top;\n",
              "    }\n",
              "\n",
              "    .dataframe thead th {\n",
              "        text-align: right;\n",
              "    }\n",
              "</style>\n",
              "<table border=\"1\" class=\"dataframe\">\n",
              "  <thead>\n",
              "    <tr style=\"text-align: right;\">\n",
              "      <th></th>\n",
              "      <th>date</th>\n",
              "      <th>week_id</th>\n",
              "      <th>event_name_1</th>\n",
              "      <th>event_type_1</th>\n",
              "      <th>event_name_2</th>\n",
              "      <th>event_type_2</th>\n",
              "      <th>snap</th>\n",
              "      <th>item_id</th>\n",
              "      <th>dept_id</th>\n",
              "      <th>cat_id</th>\n",
              "      <th>sales</th>\n",
              "      <th>price</th>\n",
              "    </tr>\n",
              "  </thead>\n",
              "  <tbody>\n",
              "    <tr>\n",
              "      <th>0</th>\n",
              "      <td>2011-03-01</td>\n",
              "      <td>11105</td>\n",
              "      <td>NaN</td>\n",
              "      <td>NaN</td>\n",
              "      <td>NaN</td>\n",
              "      <td>NaN</td>\n",
              "      <td>1</td>\n",
              "      <td>HOBBIES_1_001</td>\n",
              "      <td>HOBBIES_1</td>\n",
              "      <td>HOBBIES</td>\n",
              "      <td>0.0</td>\n",
              "      <td>NaN</td>\n",
              "    </tr>\n",
              "    <tr>\n",
              "      <th>1</th>\n",
              "      <td>2011-03-01</td>\n",
              "      <td>11105</td>\n",
              "      <td>NaN</td>\n",
              "      <td>NaN</td>\n",
              "      <td>NaN</td>\n",
              "      <td>NaN</td>\n",
              "      <td>1</td>\n",
              "      <td>HOBBIES_1_002</td>\n",
              "      <td>HOBBIES_1</td>\n",
              "      <td>HOBBIES</td>\n",
              "      <td>0.0</td>\n",
              "      <td>NaN</td>\n",
              "    </tr>\n",
              "    <tr>\n",
              "      <th>2</th>\n",
              "      <td>2011-03-01</td>\n",
              "      <td>11105</td>\n",
              "      <td>NaN</td>\n",
              "      <td>NaN</td>\n",
              "      <td>NaN</td>\n",
              "      <td>NaN</td>\n",
              "      <td>1</td>\n",
              "      <td>HOBBIES_1_003</td>\n",
              "      <td>HOBBIES_1</td>\n",
              "      <td>HOBBIES</td>\n",
              "      <td>0.0</td>\n",
              "      <td>NaN</td>\n",
              "    </tr>\n",
              "    <tr>\n",
              "      <th>3</th>\n",
              "      <td>2011-03-01</td>\n",
              "      <td>11105</td>\n",
              "      <td>NaN</td>\n",
              "      <td>NaN</td>\n",
              "      <td>NaN</td>\n",
              "      <td>NaN</td>\n",
              "      <td>1</td>\n",
              "      <td>HOBBIES_1_004</td>\n",
              "      <td>HOBBIES_1</td>\n",
              "      <td>HOBBIES</td>\n",
              "      <td>0.0</td>\n",
              "      <td>NaN</td>\n",
              "    </tr>\n",
              "    <tr>\n",
              "      <th>4</th>\n",
              "      <td>2011-03-01</td>\n",
              "      <td>11105</td>\n",
              "      <td>NaN</td>\n",
              "      <td>NaN</td>\n",
              "      <td>NaN</td>\n",
              "      <td>NaN</td>\n",
              "      <td>1</td>\n",
              "      <td>HOBBIES_1_005</td>\n",
              "      <td>HOBBIES_1</td>\n",
              "      <td>HOBBIES</td>\n",
              "      <td>0.0</td>\n",
              "      <td>NaN</td>\n",
              "    </tr>\n",
              "    <tr>\n",
              "      <th>...</th>\n",
              "      <td>...</td>\n",
              "      <td>...</td>\n",
              "      <td>...</td>\n",
              "      <td>...</td>\n",
              "      <td>...</td>\n",
              "      <td>...</td>\n",
              "      <td>...</td>\n",
              "      <td>...</td>\n",
              "      <td>...</td>\n",
              "      <td>...</td>\n",
              "      <td>...</td>\n",
              "      <td>...</td>\n",
              "    </tr>\n",
              "    <tr>\n",
              "      <th>5570549</th>\n",
              "      <td>2016-03-27</td>\n",
              "      <td>11609</td>\n",
              "      <td>Easter</td>\n",
              "      <td>Cultural</td>\n",
              "      <td>NaN</td>\n",
              "      <td>NaN</td>\n",
              "      <td>0</td>\n",
              "      <td>NaN</td>\n",
              "      <td>NaN</td>\n",
              "      <td>NaN</td>\n",
              "      <td>NaN</td>\n",
              "      <td>NaN</td>\n",
              "    </tr>\n",
              "    <tr>\n",
              "      <th>5570550</th>\n",
              "      <td>2016-03-28</td>\n",
              "      <td>11609</td>\n",
              "      <td>NaN</td>\n",
              "      <td>NaN</td>\n",
              "      <td>NaN</td>\n",
              "      <td>NaN</td>\n",
              "      <td>0</td>\n",
              "      <td>NaN</td>\n",
              "      <td>NaN</td>\n",
              "      <td>NaN</td>\n",
              "      <td>NaN</td>\n",
              "      <td>NaN</td>\n",
              "    </tr>\n",
              "    <tr>\n",
              "      <th>5570551</th>\n",
              "      <td>2016-03-29</td>\n",
              "      <td>11609</td>\n",
              "      <td>NaN</td>\n",
              "      <td>NaN</td>\n",
              "      <td>NaN</td>\n",
              "      <td>NaN</td>\n",
              "      <td>0</td>\n",
              "      <td>NaN</td>\n",
              "      <td>NaN</td>\n",
              "      <td>NaN</td>\n",
              "      <td>NaN</td>\n",
              "      <td>NaN</td>\n",
              "    </tr>\n",
              "    <tr>\n",
              "      <th>5570552</th>\n",
              "      <td>2016-03-30</td>\n",
              "      <td>11609</td>\n",
              "      <td>NaN</td>\n",
              "      <td>NaN</td>\n",
              "      <td>NaN</td>\n",
              "      <td>NaN</td>\n",
              "      <td>0</td>\n",
              "      <td>NaN</td>\n",
              "      <td>NaN</td>\n",
              "      <td>NaN</td>\n",
              "      <td>NaN</td>\n",
              "      <td>NaN</td>\n",
              "    </tr>\n",
              "    <tr>\n",
              "      <th>5570553</th>\n",
              "      <td>2016-03-31</td>\n",
              "      <td>11609</td>\n",
              "      <td>NaN</td>\n",
              "      <td>NaN</td>\n",
              "      <td>NaN</td>\n",
              "      <td>NaN</td>\n",
              "      <td>0</td>\n",
              "      <td>NaN</td>\n",
              "      <td>NaN</td>\n",
              "      <td>NaN</td>\n",
              "      <td>NaN</td>\n",
              "      <td>NaN</td>\n",
              "    </tr>\n",
              "  </tbody>\n",
              "</table>\n",
              "<p>5570554 rows × 12 columns</p>\n",
              "</div>"
            ],
            "text/plain": [
              "               date  week_id event_name_1 event_type_1 event_name_2  \\\n",
              "0        2011-03-01    11105          NaN          NaN          NaN   \n",
              "1        2011-03-01    11105          NaN          NaN          NaN   \n",
              "2        2011-03-01    11105          NaN          NaN          NaN   \n",
              "3        2011-03-01    11105          NaN          NaN          NaN   \n",
              "4        2011-03-01    11105          NaN          NaN          NaN   \n",
              "...             ...      ...          ...          ...          ...   \n",
              "5570549  2016-03-27    11609       Easter     Cultural          NaN   \n",
              "5570550  2016-03-28    11609          NaN          NaN          NaN   \n",
              "5570551  2016-03-29    11609          NaN          NaN          NaN   \n",
              "5570552  2016-03-30    11609          NaN          NaN          NaN   \n",
              "5570553  2016-03-31    11609          NaN          NaN          NaN   \n",
              "\n",
              "        event_type_2  snap        item_id    dept_id   cat_id  sales  price  \n",
              "0                NaN     1  HOBBIES_1_001  HOBBIES_1  HOBBIES    0.0    NaN  \n",
              "1                NaN     1  HOBBIES_1_002  HOBBIES_1  HOBBIES    0.0    NaN  \n",
              "2                NaN     1  HOBBIES_1_003  HOBBIES_1  HOBBIES    0.0    NaN  \n",
              "3                NaN     1  HOBBIES_1_004  HOBBIES_1  HOBBIES    0.0    NaN  \n",
              "4                NaN     1  HOBBIES_1_005  HOBBIES_1  HOBBIES    0.0    NaN  \n",
              "...              ...   ...            ...        ...      ...    ...    ...  \n",
              "5570549          NaN     0            NaN        NaN      NaN    NaN    NaN  \n",
              "5570550          NaN     0            NaN        NaN      NaN    NaN    NaN  \n",
              "5570551          NaN     0            NaN        NaN      NaN    NaN    NaN  \n",
              "5570552          NaN     0            NaN        NaN      NaN    NaN    NaN  \n",
              "5570553          NaN     0            NaN        NaN      NaN    NaN    NaN  \n",
              "\n",
              "[5570554 rows x 12 columns]"
            ]
          },
          "execution_count": 46,
          "metadata": {},
          "output_type": "execute_result"
        }
      ],
      "source": [
        "df"
      ]
    },
    {
      "cell_type": "markdown",
      "metadata": {
        "id": "8kmAug5berog"
      },
      "source": [
        "Testen auf Robustheit des Merger"
      ]
    },
    {
      "cell_type": "code",
      "execution_count": 47,
      "metadata": {
        "colab": {
          "base_uri": "https://localhost:8080/",
          "height": 269
        },
        "id": "GPHBGteaa-b4",
        "outputId": "01fe939f-7133-4b10-ae16-ceb8bb6a534f"
      },
      "outputs": [
        {
          "data": {
            "text/html": [
              "<div>\n",
              "<style scoped>\n",
              "    .dataframe tbody tr th:only-of-type {\n",
              "        vertical-align: middle;\n",
              "    }\n",
              "\n",
              "    .dataframe tbody tr th {\n",
              "        vertical-align: top;\n",
              "    }\n",
              "\n",
              "    .dataframe thead th {\n",
              "        text-align: right;\n",
              "    }\n",
              "</style>\n",
              "<table border=\"1\" class=\"dataframe\">\n",
              "  <thead>\n",
              "    <tr style=\"text-align: right;\">\n",
              "      <th></th>\n",
              "      <th>date</th>\n",
              "      <th>week_id</th>\n",
              "      <th>event_name_1</th>\n",
              "      <th>event_type_1</th>\n",
              "      <th>event_name_2</th>\n",
              "      <th>event_type_2</th>\n",
              "      <th>snap</th>\n",
              "      <th>item_id</th>\n",
              "      <th>dept_id</th>\n",
              "      <th>cat_id</th>\n",
              "      <th>sales</th>\n",
              "      <th>price</th>\n",
              "    </tr>\n",
              "  </thead>\n",
              "  <tbody>\n",
              "    <tr>\n",
              "      <th>246978</th>\n",
              "      <td>2011-05-21</td>\n",
              "      <td>11117</td>\n",
              "      <td>NaN</td>\n",
              "      <td>NaN</td>\n",
              "      <td>NaN</td>\n",
              "      <td>NaN</td>\n",
              "      <td>0</td>\n",
              "      <td>HOBBIES_1_010</td>\n",
              "      <td>HOBBIES_1</td>\n",
              "      <td>HOBBIES</td>\n",
              "      <td>0.0</td>\n",
              "      <td>2.97</td>\n",
              "    </tr>\n",
              "    <tr>\n",
              "      <th>250027</th>\n",
              "      <td>2011-05-22</td>\n",
              "      <td>11117</td>\n",
              "      <td>NaN</td>\n",
              "      <td>NaN</td>\n",
              "      <td>NaN</td>\n",
              "      <td>NaN</td>\n",
              "      <td>0</td>\n",
              "      <td>HOBBIES_1_010</td>\n",
              "      <td>HOBBIES_1</td>\n",
              "      <td>HOBBIES</td>\n",
              "      <td>0.0</td>\n",
              "      <td>2.97</td>\n",
              "    </tr>\n",
              "    <tr>\n",
              "      <th>253076</th>\n",
              "      <td>2011-05-23</td>\n",
              "      <td>11117</td>\n",
              "      <td>NaN</td>\n",
              "      <td>NaN</td>\n",
              "      <td>NaN</td>\n",
              "      <td>NaN</td>\n",
              "      <td>0</td>\n",
              "      <td>HOBBIES_1_010</td>\n",
              "      <td>HOBBIES_1</td>\n",
              "      <td>HOBBIES</td>\n",
              "      <td>3.0</td>\n",
              "      <td>2.97</td>\n",
              "    </tr>\n",
              "    <tr>\n",
              "      <th>256125</th>\n",
              "      <td>2011-05-24</td>\n",
              "      <td>11117</td>\n",
              "      <td>NaN</td>\n",
              "      <td>NaN</td>\n",
              "      <td>NaN</td>\n",
              "      <td>NaN</td>\n",
              "      <td>0</td>\n",
              "      <td>HOBBIES_1_010</td>\n",
              "      <td>HOBBIES_1</td>\n",
              "      <td>HOBBIES</td>\n",
              "      <td>1.0</td>\n",
              "      <td>2.97</td>\n",
              "    </tr>\n",
              "    <tr>\n",
              "      <th>259174</th>\n",
              "      <td>2011-05-25</td>\n",
              "      <td>11117</td>\n",
              "      <td>NaN</td>\n",
              "      <td>NaN</td>\n",
              "      <td>NaN</td>\n",
              "      <td>NaN</td>\n",
              "      <td>0</td>\n",
              "      <td>HOBBIES_1_010</td>\n",
              "      <td>HOBBIES_1</td>\n",
              "      <td>HOBBIES</td>\n",
              "      <td>1.0</td>\n",
              "      <td>2.97</td>\n",
              "    </tr>\n",
              "    <tr>\n",
              "      <th>262223</th>\n",
              "      <td>2011-05-26</td>\n",
              "      <td>11117</td>\n",
              "      <td>NaN</td>\n",
              "      <td>NaN</td>\n",
              "      <td>NaN</td>\n",
              "      <td>NaN</td>\n",
              "      <td>0</td>\n",
              "      <td>HOBBIES_1_010</td>\n",
              "      <td>HOBBIES_1</td>\n",
              "      <td>HOBBIES</td>\n",
              "      <td>1.0</td>\n",
              "      <td>2.97</td>\n",
              "    </tr>\n",
              "    <tr>\n",
              "      <th>265272</th>\n",
              "      <td>2011-05-27</td>\n",
              "      <td>11117</td>\n",
              "      <td>NaN</td>\n",
              "      <td>NaN</td>\n",
              "      <td>NaN</td>\n",
              "      <td>NaN</td>\n",
              "      <td>0</td>\n",
              "      <td>HOBBIES_1_010</td>\n",
              "      <td>HOBBIES_1</td>\n",
              "      <td>HOBBIES</td>\n",
              "      <td>0.0</td>\n",
              "      <td>2.97</td>\n",
              "    </tr>\n",
              "  </tbody>\n",
              "</table>\n",
              "</div>"
            ],
            "text/plain": [
              "              date  week_id event_name_1 event_type_1 event_name_2  \\\n",
              "246978  2011-05-21    11117          NaN          NaN          NaN   \n",
              "250027  2011-05-22    11117          NaN          NaN          NaN   \n",
              "253076  2011-05-23    11117          NaN          NaN          NaN   \n",
              "256125  2011-05-24    11117          NaN          NaN          NaN   \n",
              "259174  2011-05-25    11117          NaN          NaN          NaN   \n",
              "262223  2011-05-26    11117          NaN          NaN          NaN   \n",
              "265272  2011-05-27    11117          NaN          NaN          NaN   \n",
              "\n",
              "       event_type_2  snap        item_id    dept_id   cat_id  sales  price  \n",
              "246978          NaN     0  HOBBIES_1_010  HOBBIES_1  HOBBIES    0.0   2.97  \n",
              "250027          NaN     0  HOBBIES_1_010  HOBBIES_1  HOBBIES    0.0   2.97  \n",
              "253076          NaN     0  HOBBIES_1_010  HOBBIES_1  HOBBIES    3.0   2.97  \n",
              "256125          NaN     0  HOBBIES_1_010  HOBBIES_1  HOBBIES    1.0   2.97  \n",
              "259174          NaN     0  HOBBIES_1_010  HOBBIES_1  HOBBIES    1.0   2.97  \n",
              "262223          NaN     0  HOBBIES_1_010  HOBBIES_1  HOBBIES    1.0   2.97  \n",
              "265272          NaN     0  HOBBIES_1_010  HOBBIES_1  HOBBIES    0.0   2.97  "
            ]
          },
          "execution_count": 47,
          "metadata": {},
          "output_type": "execute_result"
        }
      ],
      "source": [
        "df[(df['item_id']=='HOBBIES_1_010')&(df['week_id']==11117)]"
      ]
    },
    {
      "cell_type": "code",
      "execution_count": 48,
      "metadata": {
        "colab": {
          "base_uri": "https://localhost:8080/",
          "height": 423
        },
        "id": "V0l6qG4IeEzE",
        "outputId": "f22e3969-3644-4bfc-bafa-f9ed8758a293"
      },
      "outputs": [
        {
          "data": {
            "text/html": [
              "<div>\n",
              "<style scoped>\n",
              "    .dataframe tbody tr th:only-of-type {\n",
              "        vertical-align: middle;\n",
              "    }\n",
              "\n",
              "    .dataframe tbody tr th {\n",
              "        vertical-align: top;\n",
              "    }\n",
              "\n",
              "    .dataframe thead th {\n",
              "        text-align: right;\n",
              "    }\n",
              "</style>\n",
              "<table border=\"1\" class=\"dataframe\">\n",
              "  <thead>\n",
              "    <tr style=\"text-align: right;\">\n",
              "      <th></th>\n",
              "      <th>item_id</th>\n",
              "      <th>week_id</th>\n",
              "      <th>price</th>\n",
              "    </tr>\n",
              "  </thead>\n",
              "  <tbody>\n",
              "    <tr>\n",
              "      <th>1428</th>\n",
              "      <td>HOBBIES_1_008</td>\n",
              "      <td>11105</td>\n",
              "      <td>0.42</td>\n",
              "    </tr>\n",
              "    <tr>\n",
              "      <th>1694</th>\n",
              "      <td>HOBBIES_1_009</td>\n",
              "      <td>11105</td>\n",
              "      <td>1.56</td>\n",
              "    </tr>\n",
              "    <tr>\n",
              "      <th>1960</th>\n",
              "      <td>HOBBIES_1_010</td>\n",
              "      <td>11105</td>\n",
              "      <td>3.17</td>\n",
              "    </tr>\n",
              "    <tr>\n",
              "      <th>2432</th>\n",
              "      <td>HOBBIES_1_012</td>\n",
              "      <td>11105</td>\n",
              "      <td>5.98</td>\n",
              "    </tr>\n",
              "    <tr>\n",
              "      <th>3134</th>\n",
              "      <td>HOBBIES_1_015</td>\n",
              "      <td>11105</td>\n",
              "      <td>0.72</td>\n",
              "    </tr>\n",
              "    <tr>\n",
              "      <th>...</th>\n",
              "      <td>...</td>\n",
              "      <td>...</td>\n",
              "      <td>...</td>\n",
              "    </tr>\n",
              "    <tr>\n",
              "      <th>654659</th>\n",
              "      <td>FOODS_3_819</td>\n",
              "      <td>11105</td>\n",
              "      <td>1.98</td>\n",
              "    </tr>\n",
              "    <tr>\n",
              "      <th>654925</th>\n",
              "      <td>FOODS_3_820</td>\n",
              "      <td>11105</td>\n",
              "      <td>1.57</td>\n",
              "    </tr>\n",
              "    <tr>\n",
              "      <th>655348</th>\n",
              "      <td>FOODS_3_822</td>\n",
              "      <td>11105</td>\n",
              "      <td>4.28</td>\n",
              "    </tr>\n",
              "    <tr>\n",
              "      <th>655805</th>\n",
              "      <td>FOODS_3_824</td>\n",
              "      <td>11105</td>\n",
              "      <td>2.48</td>\n",
              "    </tr>\n",
              "    <tr>\n",
              "      <th>656071</th>\n",
              "      <td>FOODS_3_825</td>\n",
              "      <td>11105</td>\n",
              "      <td>4.00</td>\n",
              "    </tr>\n",
              "  </tbody>\n",
              "</table>\n",
              "<p>1413 rows × 3 columns</p>\n",
              "</div>"
            ],
            "text/plain": [
              "              item_id  week_id  price\n",
              "1428    HOBBIES_1_008    11105   0.42\n",
              "1694    HOBBIES_1_009    11105   1.56\n",
              "1960    HOBBIES_1_010    11105   3.17\n",
              "2432    HOBBIES_1_012    11105   5.98\n",
              "3134    HOBBIES_1_015    11105   0.72\n",
              "...               ...      ...    ...\n",
              "654659    FOODS_3_819    11105   1.98\n",
              "654925    FOODS_3_820    11105   1.57\n",
              "655348    FOODS_3_822    11105   4.28\n",
              "655805    FOODS_3_824    11105   2.48\n",
              "656071    FOODS_3_825    11105   4.00\n",
              "\n",
              "[1413 rows x 3 columns]"
            ]
          },
          "execution_count": 48,
          "metadata": {},
          "output_type": "execute_result"
        }
      ],
      "source": [
        "df_price[df_price['week_id']==11105]"
      ]
    },
    {
      "cell_type": "code",
      "execution_count": 49,
      "metadata": {
        "colab": {
          "base_uri": "https://localhost:8080/",
          "height": 81
        },
        "id": "_6P_GZ_IfIeS",
        "outputId": "3bf9132e-1a01-4da5-d629-2db63ecd1622"
      },
      "outputs": [
        {
          "data": {
            "text/html": [
              "<div>\n",
              "<style scoped>\n",
              "    .dataframe tbody tr th:only-of-type {\n",
              "        vertical-align: middle;\n",
              "    }\n",
              "\n",
              "    .dataframe tbody tr th {\n",
              "        vertical-align: top;\n",
              "    }\n",
              "\n",
              "    .dataframe thead th {\n",
              "        text-align: right;\n",
              "    }\n",
              "</style>\n",
              "<table border=\"1\" class=\"dataframe\">\n",
              "  <thead>\n",
              "    <tr style=\"text-align: right;\">\n",
              "      <th></th>\n",
              "      <th>item_id</th>\n",
              "      <th>week_id</th>\n",
              "      <th>price</th>\n",
              "    </tr>\n",
              "  </thead>\n",
              "  <tbody>\n",
              "    <tr>\n",
              "      <th>1960</th>\n",
              "      <td>HOBBIES_1_010</td>\n",
              "      <td>11105</td>\n",
              "      <td>3.17</td>\n",
              "    </tr>\n",
              "  </tbody>\n",
              "</table>\n",
              "</div>"
            ],
            "text/plain": [
              "            item_id  week_id  price\n",
              "1960  HOBBIES_1_010    11105   3.17"
            ]
          },
          "execution_count": 49,
          "metadata": {},
          "output_type": "execute_result"
        }
      ],
      "source": [
        "df_price[(df_price['week_id']==11105) & (df_price['item_id']=='HOBBIES_1_010')]"
      ]
    },
    {
      "cell_type": "markdown",
      "metadata": {
        "id": "6oREOxvWe8w5"
      },
      "source": [
        "Vergleich Preiswerte aus df_price mit gemergetem Dataframe\n"
      ]
    },
    {
      "cell_type": "code",
      "execution_count": 50,
      "metadata": {
        "colab": {
          "base_uri": "https://localhost:8080/",
          "height": 707
        },
        "id": "6mML5ETLcaNN",
        "outputId": "c9f324df-3a6f-4b1b-a4ef-341729668a99"
      },
      "outputs": [
        {
          "data": {
            "text/html": [
              "<div>\n",
              "<style scoped>\n",
              "    .dataframe tbody tr th:only-of-type {\n",
              "        vertical-align: middle;\n",
              "    }\n",
              "\n",
              "    .dataframe tbody tr th {\n",
              "        vertical-align: top;\n",
              "    }\n",
              "\n",
              "    .dataframe thead th {\n",
              "        text-align: right;\n",
              "    }\n",
              "</style>\n",
              "<table border=\"1\" class=\"dataframe\">\n",
              "  <thead>\n",
              "    <tr style=\"text-align: right;\">\n",
              "      <th></th>\n",
              "      <th>date</th>\n",
              "      <th>item_id</th>\n",
              "      <th>dept_id</th>\n",
              "      <th>cat_id</th>\n",
              "      <th>sales</th>\n",
              "    </tr>\n",
              "  </thead>\n",
              "  <tbody>\n",
              "    <tr>\n",
              "      <th>0</th>\n",
              "      <td>2011-03-01</td>\n",
              "      <td>HOBBIES_1_001</td>\n",
              "      <td>HOBBIES_1</td>\n",
              "      <td>HOBBIES</td>\n",
              "      <td>0</td>\n",
              "    </tr>\n",
              "    <tr>\n",
              "      <th>3049</th>\n",
              "      <td>2011-03-02</td>\n",
              "      <td>HOBBIES_1_001</td>\n",
              "      <td>HOBBIES_1</td>\n",
              "      <td>HOBBIES</td>\n",
              "      <td>0</td>\n",
              "    </tr>\n",
              "    <tr>\n",
              "      <th>6098</th>\n",
              "      <td>2011-03-03</td>\n",
              "      <td>HOBBIES_1_001</td>\n",
              "      <td>HOBBIES_1</td>\n",
              "      <td>HOBBIES</td>\n",
              "      <td>0</td>\n",
              "    </tr>\n",
              "    <tr>\n",
              "      <th>9147</th>\n",
              "      <td>2011-03-04</td>\n",
              "      <td>HOBBIES_1_001</td>\n",
              "      <td>HOBBIES_1</td>\n",
              "      <td>HOBBIES</td>\n",
              "      <td>0</td>\n",
              "    </tr>\n",
              "    <tr>\n",
              "      <th>12196</th>\n",
              "      <td>2011-03-05</td>\n",
              "      <td>HOBBIES_1_001</td>\n",
              "      <td>HOBBIES_1</td>\n",
              "      <td>HOBBIES</td>\n",
              "      <td>0</td>\n",
              "    </tr>\n",
              "    <tr>\n",
              "      <th>15245</th>\n",
              "      <td>2011-03-06</td>\n",
              "      <td>HOBBIES_1_001</td>\n",
              "      <td>HOBBIES_1</td>\n",
              "      <td>HOBBIES</td>\n",
              "      <td>0</td>\n",
              "    </tr>\n",
              "    <tr>\n",
              "      <th>18294</th>\n",
              "      <td>2011-03-07</td>\n",
              "      <td>HOBBIES_1_001</td>\n",
              "      <td>HOBBIES_1</td>\n",
              "      <td>HOBBIES</td>\n",
              "      <td>0</td>\n",
              "    </tr>\n",
              "    <tr>\n",
              "      <th>21343</th>\n",
              "      <td>2011-03-08</td>\n",
              "      <td>HOBBIES_1_001</td>\n",
              "      <td>HOBBIES_1</td>\n",
              "      <td>HOBBIES</td>\n",
              "      <td>0</td>\n",
              "    </tr>\n",
              "    <tr>\n",
              "      <th>24392</th>\n",
              "      <td>2011-03-09</td>\n",
              "      <td>HOBBIES_1_001</td>\n",
              "      <td>HOBBIES_1</td>\n",
              "      <td>HOBBIES</td>\n",
              "      <td>0</td>\n",
              "    </tr>\n",
              "    <tr>\n",
              "      <th>27441</th>\n",
              "      <td>2011-03-10</td>\n",
              "      <td>HOBBIES_1_001</td>\n",
              "      <td>HOBBIES_1</td>\n",
              "      <td>HOBBIES</td>\n",
              "      <td>0</td>\n",
              "    </tr>\n",
              "    <tr>\n",
              "      <th>30490</th>\n",
              "      <td>2011-03-11</td>\n",
              "      <td>HOBBIES_1_001</td>\n",
              "      <td>HOBBIES_1</td>\n",
              "      <td>HOBBIES</td>\n",
              "      <td>0</td>\n",
              "    </tr>\n",
              "    <tr>\n",
              "      <th>33539</th>\n",
              "      <td>2011-03-12</td>\n",
              "      <td>HOBBIES_1_001</td>\n",
              "      <td>HOBBIES_1</td>\n",
              "      <td>HOBBIES</td>\n",
              "      <td>0</td>\n",
              "    </tr>\n",
              "    <tr>\n",
              "      <th>36588</th>\n",
              "      <td>2011-03-13</td>\n",
              "      <td>HOBBIES_1_001</td>\n",
              "      <td>HOBBIES_1</td>\n",
              "      <td>HOBBIES</td>\n",
              "      <td>0</td>\n",
              "    </tr>\n",
              "    <tr>\n",
              "      <th>39637</th>\n",
              "      <td>2011-03-14</td>\n",
              "      <td>HOBBIES_1_001</td>\n",
              "      <td>HOBBIES_1</td>\n",
              "      <td>HOBBIES</td>\n",
              "      <td>0</td>\n",
              "    </tr>\n",
              "    <tr>\n",
              "      <th>42686</th>\n",
              "      <td>2011-03-15</td>\n",
              "      <td>HOBBIES_1_001</td>\n",
              "      <td>HOBBIES_1</td>\n",
              "      <td>HOBBIES</td>\n",
              "      <td>0</td>\n",
              "    </tr>\n",
              "    <tr>\n",
              "      <th>45735</th>\n",
              "      <td>2011-03-16</td>\n",
              "      <td>HOBBIES_1_001</td>\n",
              "      <td>HOBBIES_1</td>\n",
              "      <td>HOBBIES</td>\n",
              "      <td>0</td>\n",
              "    </tr>\n",
              "    <tr>\n",
              "      <th>48784</th>\n",
              "      <td>2011-03-17</td>\n",
              "      <td>HOBBIES_1_001</td>\n",
              "      <td>HOBBIES_1</td>\n",
              "      <td>HOBBIES</td>\n",
              "      <td>0</td>\n",
              "    </tr>\n",
              "    <tr>\n",
              "      <th>51833</th>\n",
              "      <td>2011-03-18</td>\n",
              "      <td>HOBBIES_1_001</td>\n",
              "      <td>HOBBIES_1</td>\n",
              "      <td>HOBBIES</td>\n",
              "      <td>0</td>\n",
              "    </tr>\n",
              "    <tr>\n",
              "      <th>54882</th>\n",
              "      <td>2011-03-19</td>\n",
              "      <td>HOBBIES_1_001</td>\n",
              "      <td>HOBBIES_1</td>\n",
              "      <td>HOBBIES</td>\n",
              "      <td>0</td>\n",
              "    </tr>\n",
              "    <tr>\n",
              "      <th>57931</th>\n",
              "      <td>2011-03-20</td>\n",
              "      <td>HOBBIES_1_001</td>\n",
              "      <td>HOBBIES_1</td>\n",
              "      <td>HOBBIES</td>\n",
              "      <td>0</td>\n",
              "    </tr>\n",
              "    <tr>\n",
              "      <th>60980</th>\n",
              "      <td>2011-03-21</td>\n",
              "      <td>HOBBIES_1_001</td>\n",
              "      <td>HOBBIES_1</td>\n",
              "      <td>HOBBIES</td>\n",
              "      <td>0</td>\n",
              "    </tr>\n",
              "  </tbody>\n",
              "</table>\n",
              "</div>"
            ],
            "text/plain": [
              "             date        item_id    dept_id   cat_id  sales\n",
              "0      2011-03-01  HOBBIES_1_001  HOBBIES_1  HOBBIES      0\n",
              "3049   2011-03-02  HOBBIES_1_001  HOBBIES_1  HOBBIES      0\n",
              "6098   2011-03-03  HOBBIES_1_001  HOBBIES_1  HOBBIES      0\n",
              "9147   2011-03-04  HOBBIES_1_001  HOBBIES_1  HOBBIES      0\n",
              "12196  2011-03-05  HOBBIES_1_001  HOBBIES_1  HOBBIES      0\n",
              "15245  2011-03-06  HOBBIES_1_001  HOBBIES_1  HOBBIES      0\n",
              "18294  2011-03-07  HOBBIES_1_001  HOBBIES_1  HOBBIES      0\n",
              "21343  2011-03-08  HOBBIES_1_001  HOBBIES_1  HOBBIES      0\n",
              "24392  2011-03-09  HOBBIES_1_001  HOBBIES_1  HOBBIES      0\n",
              "27441  2011-03-10  HOBBIES_1_001  HOBBIES_1  HOBBIES      0\n",
              "30490  2011-03-11  HOBBIES_1_001  HOBBIES_1  HOBBIES      0\n",
              "33539  2011-03-12  HOBBIES_1_001  HOBBIES_1  HOBBIES      0\n",
              "36588  2011-03-13  HOBBIES_1_001  HOBBIES_1  HOBBIES      0\n",
              "39637  2011-03-14  HOBBIES_1_001  HOBBIES_1  HOBBIES      0\n",
              "42686  2011-03-15  HOBBIES_1_001  HOBBIES_1  HOBBIES      0\n",
              "45735  2011-03-16  HOBBIES_1_001  HOBBIES_1  HOBBIES      0\n",
              "48784  2011-03-17  HOBBIES_1_001  HOBBIES_1  HOBBIES      0\n",
              "51833  2011-03-18  HOBBIES_1_001  HOBBIES_1  HOBBIES      0\n",
              "54882  2011-03-19  HOBBIES_1_001  HOBBIES_1  HOBBIES      0\n",
              "57931  2011-03-20  HOBBIES_1_001  HOBBIES_1  HOBBIES      0\n",
              "60980  2011-03-21  HOBBIES_1_001  HOBBIES_1  HOBBIES      0"
            ]
          },
          "execution_count": 50,
          "metadata": {},
          "output_type": "execute_result"
        }
      ],
      "source": [
        "df_sales[(df_sales['date']>='2011-03-01')&(df_sales['date']<='2011-03-21')&(df_sales['item_id']=='HOBBIES_1_001')]"
      ]
    },
    {
      "cell_type": "markdown",
      "metadata": {
        "id": "mM340ONsfKmF"
      },
      "source": [
        "Vergleich Saleswerte aus df_sales mit gemergetem Dataframe"
      ]
    },
    {
      "cell_type": "markdown",
      "metadata": {
        "id": "ZmmLSOOyf7Uo"
      },
      "source": [
        "### Simple Feature Creation"
      ]
    },
    {
      "cell_type": "code",
      "execution_count": 51,
      "metadata": {
        "colab": {
          "base_uri": "https://localhost:8080/",
          "height": 81
        },
        "id": "txskVDuKgh_Z",
        "outputId": "a0f9a967-5c86-4dda-a028-cbe7c6cebb0c"
      },
      "outputs": [
        {
          "data": {
            "text/html": [
              "<div>\n",
              "<style scoped>\n",
              "    .dataframe tbody tr th:only-of-type {\n",
              "        vertical-align: middle;\n",
              "    }\n",
              "\n",
              "    .dataframe tbody tr th {\n",
              "        vertical-align: top;\n",
              "    }\n",
              "\n",
              "    .dataframe thead th {\n",
              "        text-align: right;\n",
              "    }\n",
              "</style>\n",
              "<table border=\"1\" class=\"dataframe\">\n",
              "  <thead>\n",
              "    <tr style=\"text-align: right;\">\n",
              "      <th></th>\n",
              "      <th>date</th>\n",
              "      <th>week_id</th>\n",
              "      <th>event_name_1</th>\n",
              "      <th>event_type_1</th>\n",
              "      <th>event_name_2</th>\n",
              "      <th>event_type_2</th>\n",
              "      <th>snap</th>\n",
              "      <th>item_id</th>\n",
              "      <th>dept_id</th>\n",
              "      <th>cat_id</th>\n",
              "      <th>sales</th>\n",
              "      <th>price</th>\n",
              "    </tr>\n",
              "  </thead>\n",
              "  <tbody>\n",
              "    <tr>\n",
              "      <th>253076</th>\n",
              "      <td>2011-05-23</td>\n",
              "      <td>11117</td>\n",
              "      <td>NaN</td>\n",
              "      <td>NaN</td>\n",
              "      <td>NaN</td>\n",
              "      <td>NaN</td>\n",
              "      <td>0</td>\n",
              "      <td>HOBBIES_1_010</td>\n",
              "      <td>HOBBIES_1</td>\n",
              "      <td>HOBBIES</td>\n",
              "      <td>3.0</td>\n",
              "      <td>2.97</td>\n",
              "    </tr>\n",
              "  </tbody>\n",
              "</table>\n",
              "</div>"
            ],
            "text/plain": [
              "              date  week_id event_name_1 event_type_1 event_name_2  \\\n",
              "253076  2011-05-23    11117          NaN          NaN          NaN   \n",
              "\n",
              "       event_type_2  snap        item_id    dept_id   cat_id  sales  price  \n",
              "253076          NaN     0  HOBBIES_1_010  HOBBIES_1  HOBBIES    3.0   2.97  "
            ]
          },
          "execution_count": 51,
          "metadata": {},
          "output_type": "execute_result"
        }
      ],
      "source": [
        "df[(df['date']=='2011-05-23')&(df['item_id']=='HOBBIES_1_010')]"
      ]
    },
    {
      "cell_type": "markdown",
      "metadata": {
        "id": "ugTgdsJNhXLY"
      },
      "source": [
        "NaN\n"
      ]
    },
    {
      "cell_type": "code",
      "execution_count": 52,
      "metadata": {
        "colab": {
          "base_uri": "https://localhost:8080/",
          "height": 1000
        },
        "id": "MebJNImLhYfu",
        "outputId": "c324b308-589f-4a33-e24f-013887d30285"
      },
      "outputs": [
        {
          "data": {
            "text/html": [
              "<div>\n",
              "<style scoped>\n",
              "    .dataframe tbody tr th:only-of-type {\n",
              "        vertical-align: middle;\n",
              "    }\n",
              "\n",
              "    .dataframe tbody tr th {\n",
              "        vertical-align: top;\n",
              "    }\n",
              "\n",
              "    .dataframe thead th {\n",
              "        text-align: right;\n",
              "    }\n",
              "</style>\n",
              "<table border=\"1\" class=\"dataframe\">\n",
              "  <thead>\n",
              "    <tr style=\"text-align: right;\">\n",
              "      <th></th>\n",
              "      <th>date</th>\n",
              "      <th>week_id</th>\n",
              "      <th>event_name_1</th>\n",
              "      <th>event_type_1</th>\n",
              "      <th>event_name_2</th>\n",
              "      <th>event_type_2</th>\n",
              "      <th>snap</th>\n",
              "      <th>item_id</th>\n",
              "      <th>dept_id</th>\n",
              "      <th>cat_id</th>\n",
              "      <th>sales</th>\n",
              "      <th>price</th>\n",
              "    </tr>\n",
              "  </thead>\n",
              "  <tbody>\n",
              "    <tr>\n",
              "      <th>5570523</th>\n",
              "      <td>2016-03-01</td>\n",
              "      <td>11605</td>\n",
              "      <td>NaN</td>\n",
              "      <td>NaN</td>\n",
              "      <td>NaN</td>\n",
              "      <td>NaN</td>\n",
              "      <td>1</td>\n",
              "      <td>NaN</td>\n",
              "      <td>NaN</td>\n",
              "      <td>NaN</td>\n",
              "      <td>NaN</td>\n",
              "      <td>NaN</td>\n",
              "    </tr>\n",
              "    <tr>\n",
              "      <th>5570524</th>\n",
              "      <td>2016-03-02</td>\n",
              "      <td>11605</td>\n",
              "      <td>NaN</td>\n",
              "      <td>NaN</td>\n",
              "      <td>NaN</td>\n",
              "      <td>NaN</td>\n",
              "      <td>1</td>\n",
              "      <td>NaN</td>\n",
              "      <td>NaN</td>\n",
              "      <td>NaN</td>\n",
              "      <td>NaN</td>\n",
              "      <td>NaN</td>\n",
              "    </tr>\n",
              "    <tr>\n",
              "      <th>5570525</th>\n",
              "      <td>2016-03-03</td>\n",
              "      <td>11605</td>\n",
              "      <td>NaN</td>\n",
              "      <td>NaN</td>\n",
              "      <td>NaN</td>\n",
              "      <td>NaN</td>\n",
              "      <td>1</td>\n",
              "      <td>NaN</td>\n",
              "      <td>NaN</td>\n",
              "      <td>NaN</td>\n",
              "      <td>NaN</td>\n",
              "      <td>NaN</td>\n",
              "    </tr>\n",
              "    <tr>\n",
              "      <th>5570526</th>\n",
              "      <td>2016-03-04</td>\n",
              "      <td>11605</td>\n",
              "      <td>NaN</td>\n",
              "      <td>NaN</td>\n",
              "      <td>NaN</td>\n",
              "      <td>NaN</td>\n",
              "      <td>1</td>\n",
              "      <td>NaN</td>\n",
              "      <td>NaN</td>\n",
              "      <td>NaN</td>\n",
              "      <td>NaN</td>\n",
              "      <td>NaN</td>\n",
              "    </tr>\n",
              "    <tr>\n",
              "      <th>5570527</th>\n",
              "      <td>2016-03-05</td>\n",
              "      <td>11606</td>\n",
              "      <td>NaN</td>\n",
              "      <td>NaN</td>\n",
              "      <td>NaN</td>\n",
              "      <td>NaN</td>\n",
              "      <td>1</td>\n",
              "      <td>NaN</td>\n",
              "      <td>NaN</td>\n",
              "      <td>NaN</td>\n",
              "      <td>NaN</td>\n",
              "      <td>NaN</td>\n",
              "    </tr>\n",
              "    <tr>\n",
              "      <th>5570528</th>\n",
              "      <td>2016-03-06</td>\n",
              "      <td>11606</td>\n",
              "      <td>NaN</td>\n",
              "      <td>NaN</td>\n",
              "      <td>NaN</td>\n",
              "      <td>NaN</td>\n",
              "      <td>1</td>\n",
              "      <td>NaN</td>\n",
              "      <td>NaN</td>\n",
              "      <td>NaN</td>\n",
              "      <td>NaN</td>\n",
              "      <td>NaN</td>\n",
              "    </tr>\n",
              "    <tr>\n",
              "      <th>5570529</th>\n",
              "      <td>2016-03-07</td>\n",
              "      <td>11606</td>\n",
              "      <td>NaN</td>\n",
              "      <td>NaN</td>\n",
              "      <td>NaN</td>\n",
              "      <td>NaN</td>\n",
              "      <td>1</td>\n",
              "      <td>NaN</td>\n",
              "      <td>NaN</td>\n",
              "      <td>NaN</td>\n",
              "      <td>NaN</td>\n",
              "      <td>NaN</td>\n",
              "    </tr>\n",
              "    <tr>\n",
              "      <th>5570530</th>\n",
              "      <td>2016-03-08</td>\n",
              "      <td>11606</td>\n",
              "      <td>NaN</td>\n",
              "      <td>NaN</td>\n",
              "      <td>NaN</td>\n",
              "      <td>NaN</td>\n",
              "      <td>1</td>\n",
              "      <td>NaN</td>\n",
              "      <td>NaN</td>\n",
              "      <td>NaN</td>\n",
              "      <td>NaN</td>\n",
              "      <td>NaN</td>\n",
              "    </tr>\n",
              "    <tr>\n",
              "      <th>5570531</th>\n",
              "      <td>2016-03-09</td>\n",
              "      <td>11606</td>\n",
              "      <td>NaN</td>\n",
              "      <td>NaN</td>\n",
              "      <td>NaN</td>\n",
              "      <td>NaN</td>\n",
              "      <td>1</td>\n",
              "      <td>NaN</td>\n",
              "      <td>NaN</td>\n",
              "      <td>NaN</td>\n",
              "      <td>NaN</td>\n",
              "      <td>NaN</td>\n",
              "    </tr>\n",
              "    <tr>\n",
              "      <th>5570532</th>\n",
              "      <td>2016-03-10</td>\n",
              "      <td>11606</td>\n",
              "      <td>NaN</td>\n",
              "      <td>NaN</td>\n",
              "      <td>NaN</td>\n",
              "      <td>NaN</td>\n",
              "      <td>1</td>\n",
              "      <td>NaN</td>\n",
              "      <td>NaN</td>\n",
              "      <td>NaN</td>\n",
              "      <td>NaN</td>\n",
              "      <td>NaN</td>\n",
              "    </tr>\n",
              "    <tr>\n",
              "      <th>5570533</th>\n",
              "      <td>2016-03-11</td>\n",
              "      <td>11606</td>\n",
              "      <td>NaN</td>\n",
              "      <td>NaN</td>\n",
              "      <td>NaN</td>\n",
              "      <td>NaN</td>\n",
              "      <td>0</td>\n",
              "      <td>NaN</td>\n",
              "      <td>NaN</td>\n",
              "      <td>NaN</td>\n",
              "      <td>NaN</td>\n",
              "      <td>NaN</td>\n",
              "    </tr>\n",
              "    <tr>\n",
              "      <th>5570534</th>\n",
              "      <td>2016-03-12</td>\n",
              "      <td>11607</td>\n",
              "      <td>NaN</td>\n",
              "      <td>NaN</td>\n",
              "      <td>NaN</td>\n",
              "      <td>NaN</td>\n",
              "      <td>0</td>\n",
              "      <td>NaN</td>\n",
              "      <td>NaN</td>\n",
              "      <td>NaN</td>\n",
              "      <td>NaN</td>\n",
              "      <td>NaN</td>\n",
              "    </tr>\n",
              "    <tr>\n",
              "      <th>5570535</th>\n",
              "      <td>2016-03-13</td>\n",
              "      <td>11607</td>\n",
              "      <td>NaN</td>\n",
              "      <td>NaN</td>\n",
              "      <td>NaN</td>\n",
              "      <td>NaN</td>\n",
              "      <td>0</td>\n",
              "      <td>NaN</td>\n",
              "      <td>NaN</td>\n",
              "      <td>NaN</td>\n",
              "      <td>NaN</td>\n",
              "      <td>NaN</td>\n",
              "    </tr>\n",
              "    <tr>\n",
              "      <th>5570536</th>\n",
              "      <td>2016-03-14</td>\n",
              "      <td>11607</td>\n",
              "      <td>NaN</td>\n",
              "      <td>NaN</td>\n",
              "      <td>NaN</td>\n",
              "      <td>NaN</td>\n",
              "      <td>0</td>\n",
              "      <td>NaN</td>\n",
              "      <td>NaN</td>\n",
              "      <td>NaN</td>\n",
              "      <td>NaN</td>\n",
              "      <td>NaN</td>\n",
              "    </tr>\n",
              "    <tr>\n",
              "      <th>5570537</th>\n",
              "      <td>2016-03-15</td>\n",
              "      <td>11607</td>\n",
              "      <td>NaN</td>\n",
              "      <td>NaN</td>\n",
              "      <td>NaN</td>\n",
              "      <td>NaN</td>\n",
              "      <td>0</td>\n",
              "      <td>NaN</td>\n",
              "      <td>NaN</td>\n",
              "      <td>NaN</td>\n",
              "      <td>NaN</td>\n",
              "      <td>NaN</td>\n",
              "    </tr>\n",
              "    <tr>\n",
              "      <th>5570538</th>\n",
              "      <td>2016-03-16</td>\n",
              "      <td>11607</td>\n",
              "      <td>NaN</td>\n",
              "      <td>NaN</td>\n",
              "      <td>NaN</td>\n",
              "      <td>NaN</td>\n",
              "      <td>0</td>\n",
              "      <td>NaN</td>\n",
              "      <td>NaN</td>\n",
              "      <td>NaN</td>\n",
              "      <td>NaN</td>\n",
              "      <td>NaN</td>\n",
              "    </tr>\n",
              "    <tr>\n",
              "      <th>5570539</th>\n",
              "      <td>2016-03-17</td>\n",
              "      <td>11607</td>\n",
              "      <td>StPatricksDay</td>\n",
              "      <td>Cultural</td>\n",
              "      <td>NaN</td>\n",
              "      <td>NaN</td>\n",
              "      <td>0</td>\n",
              "      <td>NaN</td>\n",
              "      <td>NaN</td>\n",
              "      <td>NaN</td>\n",
              "      <td>NaN</td>\n",
              "      <td>NaN</td>\n",
              "    </tr>\n",
              "    <tr>\n",
              "      <th>5570540</th>\n",
              "      <td>2016-03-18</td>\n",
              "      <td>11607</td>\n",
              "      <td>NaN</td>\n",
              "      <td>NaN</td>\n",
              "      <td>NaN</td>\n",
              "      <td>NaN</td>\n",
              "      <td>0</td>\n",
              "      <td>NaN</td>\n",
              "      <td>NaN</td>\n",
              "      <td>NaN</td>\n",
              "      <td>NaN</td>\n",
              "      <td>NaN</td>\n",
              "    </tr>\n",
              "    <tr>\n",
              "      <th>5570541</th>\n",
              "      <td>2016-03-19</td>\n",
              "      <td>11608</td>\n",
              "      <td>NaN</td>\n",
              "      <td>NaN</td>\n",
              "      <td>NaN</td>\n",
              "      <td>NaN</td>\n",
              "      <td>0</td>\n",
              "      <td>NaN</td>\n",
              "      <td>NaN</td>\n",
              "      <td>NaN</td>\n",
              "      <td>NaN</td>\n",
              "      <td>NaN</td>\n",
              "    </tr>\n",
              "    <tr>\n",
              "      <th>5570542</th>\n",
              "      <td>2016-03-20</td>\n",
              "      <td>11608</td>\n",
              "      <td>NaN</td>\n",
              "      <td>NaN</td>\n",
              "      <td>NaN</td>\n",
              "      <td>NaN</td>\n",
              "      <td>0</td>\n",
              "      <td>NaN</td>\n",
              "      <td>NaN</td>\n",
              "      <td>NaN</td>\n",
              "      <td>NaN</td>\n",
              "      <td>NaN</td>\n",
              "    </tr>\n",
              "    <tr>\n",
              "      <th>5570543</th>\n",
              "      <td>2016-03-21</td>\n",
              "      <td>11608</td>\n",
              "      <td>NaN</td>\n",
              "      <td>NaN</td>\n",
              "      <td>NaN</td>\n",
              "      <td>NaN</td>\n",
              "      <td>0</td>\n",
              "      <td>NaN</td>\n",
              "      <td>NaN</td>\n",
              "      <td>NaN</td>\n",
              "      <td>NaN</td>\n",
              "      <td>NaN</td>\n",
              "    </tr>\n",
              "    <tr>\n",
              "      <th>5570544</th>\n",
              "      <td>2016-03-22</td>\n",
              "      <td>11608</td>\n",
              "      <td>NaN</td>\n",
              "      <td>NaN</td>\n",
              "      <td>NaN</td>\n",
              "      <td>NaN</td>\n",
              "      <td>0</td>\n",
              "      <td>NaN</td>\n",
              "      <td>NaN</td>\n",
              "      <td>NaN</td>\n",
              "      <td>NaN</td>\n",
              "      <td>NaN</td>\n",
              "    </tr>\n",
              "    <tr>\n",
              "      <th>5570545</th>\n",
              "      <td>2016-03-23</td>\n",
              "      <td>11608</td>\n",
              "      <td>NaN</td>\n",
              "      <td>NaN</td>\n",
              "      <td>NaN</td>\n",
              "      <td>NaN</td>\n",
              "      <td>0</td>\n",
              "      <td>NaN</td>\n",
              "      <td>NaN</td>\n",
              "      <td>NaN</td>\n",
              "      <td>NaN</td>\n",
              "      <td>NaN</td>\n",
              "    </tr>\n",
              "    <tr>\n",
              "      <th>5570546</th>\n",
              "      <td>2016-03-24</td>\n",
              "      <td>11608</td>\n",
              "      <td>Purim End</td>\n",
              "      <td>Religious</td>\n",
              "      <td>NaN</td>\n",
              "      <td>NaN</td>\n",
              "      <td>0</td>\n",
              "      <td>NaN</td>\n",
              "      <td>NaN</td>\n",
              "      <td>NaN</td>\n",
              "      <td>NaN</td>\n",
              "      <td>NaN</td>\n",
              "    </tr>\n",
              "    <tr>\n",
              "      <th>5570547</th>\n",
              "      <td>2016-03-25</td>\n",
              "      <td>11608</td>\n",
              "      <td>NaN</td>\n",
              "      <td>NaN</td>\n",
              "      <td>NaN</td>\n",
              "      <td>NaN</td>\n",
              "      <td>0</td>\n",
              "      <td>NaN</td>\n",
              "      <td>NaN</td>\n",
              "      <td>NaN</td>\n",
              "      <td>NaN</td>\n",
              "      <td>NaN</td>\n",
              "    </tr>\n",
              "    <tr>\n",
              "      <th>5570548</th>\n",
              "      <td>2016-03-26</td>\n",
              "      <td>11609</td>\n",
              "      <td>NaN</td>\n",
              "      <td>NaN</td>\n",
              "      <td>NaN</td>\n",
              "      <td>NaN</td>\n",
              "      <td>0</td>\n",
              "      <td>NaN</td>\n",
              "      <td>NaN</td>\n",
              "      <td>NaN</td>\n",
              "      <td>NaN</td>\n",
              "      <td>NaN</td>\n",
              "    </tr>\n",
              "    <tr>\n",
              "      <th>5570549</th>\n",
              "      <td>2016-03-27</td>\n",
              "      <td>11609</td>\n",
              "      <td>Easter</td>\n",
              "      <td>Cultural</td>\n",
              "      <td>NaN</td>\n",
              "      <td>NaN</td>\n",
              "      <td>0</td>\n",
              "      <td>NaN</td>\n",
              "      <td>NaN</td>\n",
              "      <td>NaN</td>\n",
              "      <td>NaN</td>\n",
              "      <td>NaN</td>\n",
              "    </tr>\n",
              "    <tr>\n",
              "      <th>5570550</th>\n",
              "      <td>2016-03-28</td>\n",
              "      <td>11609</td>\n",
              "      <td>NaN</td>\n",
              "      <td>NaN</td>\n",
              "      <td>NaN</td>\n",
              "      <td>NaN</td>\n",
              "      <td>0</td>\n",
              "      <td>NaN</td>\n",
              "      <td>NaN</td>\n",
              "      <td>NaN</td>\n",
              "      <td>NaN</td>\n",
              "      <td>NaN</td>\n",
              "    </tr>\n",
              "    <tr>\n",
              "      <th>5570551</th>\n",
              "      <td>2016-03-29</td>\n",
              "      <td>11609</td>\n",
              "      <td>NaN</td>\n",
              "      <td>NaN</td>\n",
              "      <td>NaN</td>\n",
              "      <td>NaN</td>\n",
              "      <td>0</td>\n",
              "      <td>NaN</td>\n",
              "      <td>NaN</td>\n",
              "      <td>NaN</td>\n",
              "      <td>NaN</td>\n",
              "      <td>NaN</td>\n",
              "    </tr>\n",
              "    <tr>\n",
              "      <th>5570552</th>\n",
              "      <td>2016-03-30</td>\n",
              "      <td>11609</td>\n",
              "      <td>NaN</td>\n",
              "      <td>NaN</td>\n",
              "      <td>NaN</td>\n",
              "      <td>NaN</td>\n",
              "      <td>0</td>\n",
              "      <td>NaN</td>\n",
              "      <td>NaN</td>\n",
              "      <td>NaN</td>\n",
              "      <td>NaN</td>\n",
              "      <td>NaN</td>\n",
              "    </tr>\n",
              "    <tr>\n",
              "      <th>5570553</th>\n",
              "      <td>2016-03-31</td>\n",
              "      <td>11609</td>\n",
              "      <td>NaN</td>\n",
              "      <td>NaN</td>\n",
              "      <td>NaN</td>\n",
              "      <td>NaN</td>\n",
              "      <td>0</td>\n",
              "      <td>NaN</td>\n",
              "      <td>NaN</td>\n",
              "      <td>NaN</td>\n",
              "      <td>NaN</td>\n",
              "      <td>NaN</td>\n",
              "    </tr>\n",
              "  </tbody>\n",
              "</table>\n",
              "</div>"
            ],
            "text/plain": [
              "               date  week_id   event_name_1 event_type_1 event_name_2  \\\n",
              "5570523  2016-03-01    11605            NaN          NaN          NaN   \n",
              "5570524  2016-03-02    11605            NaN          NaN          NaN   \n",
              "5570525  2016-03-03    11605            NaN          NaN          NaN   \n",
              "5570526  2016-03-04    11605            NaN          NaN          NaN   \n",
              "5570527  2016-03-05    11606            NaN          NaN          NaN   \n",
              "5570528  2016-03-06    11606            NaN          NaN          NaN   \n",
              "5570529  2016-03-07    11606            NaN          NaN          NaN   \n",
              "5570530  2016-03-08    11606            NaN          NaN          NaN   \n",
              "5570531  2016-03-09    11606            NaN          NaN          NaN   \n",
              "5570532  2016-03-10    11606            NaN          NaN          NaN   \n",
              "5570533  2016-03-11    11606            NaN          NaN          NaN   \n",
              "5570534  2016-03-12    11607            NaN          NaN          NaN   \n",
              "5570535  2016-03-13    11607            NaN          NaN          NaN   \n",
              "5570536  2016-03-14    11607            NaN          NaN          NaN   \n",
              "5570537  2016-03-15    11607            NaN          NaN          NaN   \n",
              "5570538  2016-03-16    11607            NaN          NaN          NaN   \n",
              "5570539  2016-03-17    11607  StPatricksDay     Cultural          NaN   \n",
              "5570540  2016-03-18    11607            NaN          NaN          NaN   \n",
              "5570541  2016-03-19    11608            NaN          NaN          NaN   \n",
              "5570542  2016-03-20    11608            NaN          NaN          NaN   \n",
              "5570543  2016-03-21    11608            NaN          NaN          NaN   \n",
              "5570544  2016-03-22    11608            NaN          NaN          NaN   \n",
              "5570545  2016-03-23    11608            NaN          NaN          NaN   \n",
              "5570546  2016-03-24    11608      Purim End    Religious          NaN   \n",
              "5570547  2016-03-25    11608            NaN          NaN          NaN   \n",
              "5570548  2016-03-26    11609            NaN          NaN          NaN   \n",
              "5570549  2016-03-27    11609         Easter     Cultural          NaN   \n",
              "5570550  2016-03-28    11609            NaN          NaN          NaN   \n",
              "5570551  2016-03-29    11609            NaN          NaN          NaN   \n",
              "5570552  2016-03-30    11609            NaN          NaN          NaN   \n",
              "5570553  2016-03-31    11609            NaN          NaN          NaN   \n",
              "\n",
              "        event_type_2  snap item_id dept_id cat_id  sales  price  \n",
              "5570523          NaN     1     NaN     NaN    NaN    NaN    NaN  \n",
              "5570524          NaN     1     NaN     NaN    NaN    NaN    NaN  \n",
              "5570525          NaN     1     NaN     NaN    NaN    NaN    NaN  \n",
              "5570526          NaN     1     NaN     NaN    NaN    NaN    NaN  \n",
              "5570527          NaN     1     NaN     NaN    NaN    NaN    NaN  \n",
              "5570528          NaN     1     NaN     NaN    NaN    NaN    NaN  \n",
              "5570529          NaN     1     NaN     NaN    NaN    NaN    NaN  \n",
              "5570530          NaN     1     NaN     NaN    NaN    NaN    NaN  \n",
              "5570531          NaN     1     NaN     NaN    NaN    NaN    NaN  \n",
              "5570532          NaN     1     NaN     NaN    NaN    NaN    NaN  \n",
              "5570533          NaN     0     NaN     NaN    NaN    NaN    NaN  \n",
              "5570534          NaN     0     NaN     NaN    NaN    NaN    NaN  \n",
              "5570535          NaN     0     NaN     NaN    NaN    NaN    NaN  \n",
              "5570536          NaN     0     NaN     NaN    NaN    NaN    NaN  \n",
              "5570537          NaN     0     NaN     NaN    NaN    NaN    NaN  \n",
              "5570538          NaN     0     NaN     NaN    NaN    NaN    NaN  \n",
              "5570539          NaN     0     NaN     NaN    NaN    NaN    NaN  \n",
              "5570540          NaN     0     NaN     NaN    NaN    NaN    NaN  \n",
              "5570541          NaN     0     NaN     NaN    NaN    NaN    NaN  \n",
              "5570542          NaN     0     NaN     NaN    NaN    NaN    NaN  \n",
              "5570543          NaN     0     NaN     NaN    NaN    NaN    NaN  \n",
              "5570544          NaN     0     NaN     NaN    NaN    NaN    NaN  \n",
              "5570545          NaN     0     NaN     NaN    NaN    NaN    NaN  \n",
              "5570546          NaN     0     NaN     NaN    NaN    NaN    NaN  \n",
              "5570547          NaN     0     NaN     NaN    NaN    NaN    NaN  \n",
              "5570548          NaN     0     NaN     NaN    NaN    NaN    NaN  \n",
              "5570549          NaN     0     NaN     NaN    NaN    NaN    NaN  \n",
              "5570550          NaN     0     NaN     NaN    NaN    NaN    NaN  \n",
              "5570551          NaN     0     NaN     NaN    NaN    NaN    NaN  \n",
              "5570552          NaN     0     NaN     NaN    NaN    NaN    NaN  \n",
              "5570553          NaN     0     NaN     NaN    NaN    NaN    NaN  "
            ]
          },
          "execution_count": 52,
          "metadata": {},
          "output_type": "execute_result"
        }
      ],
      "source": [
        "df[df['sales'].isnull()==True]"
      ]
    },
    {
      "cell_type": "markdown",
      "metadata": {
        "id": "UQzPy6ixh_Ui"
      },
      "source": [
        "NaN in Sales nur ab dem 01.03.2016 da ab dort keine Sales Daten mehr verfügbar sind, der Kalendar jedoch bis zum 31.03.2016 geht."
      ]
    },
    {
      "cell_type": "code",
      "execution_count": 53,
      "metadata": {
        "colab": {
          "base_uri": "https://localhost:8080/",
          "height": 49
        },
        "id": "rm3k9I2DiTu5",
        "outputId": "a0a6a4d6-bb1a-421c-88e7-d49bc3a02a62"
      },
      "outputs": [
        {
          "data": {
            "text/html": [
              "<div>\n",
              "<style scoped>\n",
              "    .dataframe tbody tr th:only-of-type {\n",
              "        vertical-align: middle;\n",
              "    }\n",
              "\n",
              "    .dataframe tbody tr th {\n",
              "        vertical-align: top;\n",
              "    }\n",
              "\n",
              "    .dataframe thead th {\n",
              "        text-align: right;\n",
              "    }\n",
              "</style>\n",
              "<table border=\"1\" class=\"dataframe\">\n",
              "  <thead>\n",
              "    <tr style=\"text-align: right;\">\n",
              "      <th></th>\n",
              "      <th>date</th>\n",
              "      <th>week_id</th>\n",
              "      <th>event_name_1</th>\n",
              "      <th>event_type_1</th>\n",
              "      <th>event_name_2</th>\n",
              "      <th>event_type_2</th>\n",
              "      <th>snap</th>\n",
              "      <th>item_id</th>\n",
              "      <th>dept_id</th>\n",
              "      <th>cat_id</th>\n",
              "      <th>sales</th>\n",
              "      <th>price</th>\n",
              "    </tr>\n",
              "  </thead>\n",
              "  <tbody>\n",
              "  </tbody>\n",
              "</table>\n",
              "</div>"
            ],
            "text/plain": [
              "Empty DataFrame\n",
              "Columns: [date, week_id, event_name_1, event_type_1, event_name_2, event_type_2, snap, item_id, dept_id, cat_id, sales, price]\n",
              "Index: []"
            ]
          },
          "execution_count": 53,
          "metadata": {},
          "output_type": "execute_result"
        }
      ],
      "source": [
        "df[(df['price'].isnull()==True)&(df['sales']>0)]"
      ]
    },
    {
      "cell_type": "markdown",
      "metadata": {
        "id": "AchcRtHei6qC"
      },
      "source": [
        "Da Preis nur NaN ist wenn Sales auch 0 ist können wir den Preis an diesen Stellen auch auf 0 setzen."
      ]
    },
    {
      "cell_type": "code",
      "execution_count": 54,
      "metadata": {
        "id": "wqoLQGlfjGTR"
      },
      "outputs": [],
      "source": [
        "df['turnover_day'] = df['sales']*df['price']"
      ]
    },
    {
      "cell_type": "code",
      "execution_count": 55,
      "metadata": {
        "colab": {
          "base_uri": "https://localhost:8080/",
          "height": 423
        },
        "id": "wZuw_RAljiik",
        "outputId": "7b8a4278-81e6-4fb2-fa58-3fd7c1afa555"
      },
      "outputs": [
        {
          "data": {
            "text/html": [
              "<div>\n",
              "<style scoped>\n",
              "    .dataframe tbody tr th:only-of-type {\n",
              "        vertical-align: middle;\n",
              "    }\n",
              "\n",
              "    .dataframe tbody tr th {\n",
              "        vertical-align: top;\n",
              "    }\n",
              "\n",
              "    .dataframe thead th {\n",
              "        text-align: right;\n",
              "    }\n",
              "</style>\n",
              "<table border=\"1\" class=\"dataframe\">\n",
              "  <thead>\n",
              "    <tr style=\"text-align: right;\">\n",
              "      <th></th>\n",
              "      <th>date</th>\n",
              "      <th>week_id</th>\n",
              "      <th>event_name_1</th>\n",
              "      <th>event_type_1</th>\n",
              "      <th>event_name_2</th>\n",
              "      <th>event_type_2</th>\n",
              "      <th>snap</th>\n",
              "      <th>item_id</th>\n",
              "      <th>dept_id</th>\n",
              "      <th>cat_id</th>\n",
              "      <th>sales</th>\n",
              "      <th>price</th>\n",
              "      <th>turnover_day</th>\n",
              "    </tr>\n",
              "  </thead>\n",
              "  <tbody>\n",
              "    <tr>\n",
              "      <th>0</th>\n",
              "      <td>2011-03-01</td>\n",
              "      <td>11105</td>\n",
              "      <td>NaN</td>\n",
              "      <td>NaN</td>\n",
              "      <td>NaN</td>\n",
              "      <td>NaN</td>\n",
              "      <td>1</td>\n",
              "      <td>HOBBIES_1_001</td>\n",
              "      <td>HOBBIES_1</td>\n",
              "      <td>HOBBIES</td>\n",
              "      <td>0.0</td>\n",
              "      <td>NaN</td>\n",
              "      <td>NaN</td>\n",
              "    </tr>\n",
              "    <tr>\n",
              "      <th>1</th>\n",
              "      <td>2011-03-01</td>\n",
              "      <td>11105</td>\n",
              "      <td>NaN</td>\n",
              "      <td>NaN</td>\n",
              "      <td>NaN</td>\n",
              "      <td>NaN</td>\n",
              "      <td>1</td>\n",
              "      <td>HOBBIES_1_002</td>\n",
              "      <td>HOBBIES_1</td>\n",
              "      <td>HOBBIES</td>\n",
              "      <td>0.0</td>\n",
              "      <td>NaN</td>\n",
              "      <td>NaN</td>\n",
              "    </tr>\n",
              "    <tr>\n",
              "      <th>2</th>\n",
              "      <td>2011-03-01</td>\n",
              "      <td>11105</td>\n",
              "      <td>NaN</td>\n",
              "      <td>NaN</td>\n",
              "      <td>NaN</td>\n",
              "      <td>NaN</td>\n",
              "      <td>1</td>\n",
              "      <td>HOBBIES_1_003</td>\n",
              "      <td>HOBBIES_1</td>\n",
              "      <td>HOBBIES</td>\n",
              "      <td>0.0</td>\n",
              "      <td>NaN</td>\n",
              "      <td>NaN</td>\n",
              "    </tr>\n",
              "    <tr>\n",
              "      <th>3</th>\n",
              "      <td>2011-03-01</td>\n",
              "      <td>11105</td>\n",
              "      <td>NaN</td>\n",
              "      <td>NaN</td>\n",
              "      <td>NaN</td>\n",
              "      <td>NaN</td>\n",
              "      <td>1</td>\n",
              "      <td>HOBBIES_1_004</td>\n",
              "      <td>HOBBIES_1</td>\n",
              "      <td>HOBBIES</td>\n",
              "      <td>0.0</td>\n",
              "      <td>NaN</td>\n",
              "      <td>NaN</td>\n",
              "    </tr>\n",
              "    <tr>\n",
              "      <th>4</th>\n",
              "      <td>2011-03-01</td>\n",
              "      <td>11105</td>\n",
              "      <td>NaN</td>\n",
              "      <td>NaN</td>\n",
              "      <td>NaN</td>\n",
              "      <td>NaN</td>\n",
              "      <td>1</td>\n",
              "      <td>HOBBIES_1_005</td>\n",
              "      <td>HOBBIES_1</td>\n",
              "      <td>HOBBIES</td>\n",
              "      <td>0.0</td>\n",
              "      <td>NaN</td>\n",
              "      <td>NaN</td>\n",
              "    </tr>\n",
              "    <tr>\n",
              "      <th>...</th>\n",
              "      <td>...</td>\n",
              "      <td>...</td>\n",
              "      <td>...</td>\n",
              "      <td>...</td>\n",
              "      <td>...</td>\n",
              "      <td>...</td>\n",
              "      <td>...</td>\n",
              "      <td>...</td>\n",
              "      <td>...</td>\n",
              "      <td>...</td>\n",
              "      <td>...</td>\n",
              "      <td>...</td>\n",
              "      <td>...</td>\n",
              "    </tr>\n",
              "    <tr>\n",
              "      <th>5570549</th>\n",
              "      <td>2016-03-27</td>\n",
              "      <td>11609</td>\n",
              "      <td>Easter</td>\n",
              "      <td>Cultural</td>\n",
              "      <td>NaN</td>\n",
              "      <td>NaN</td>\n",
              "      <td>0</td>\n",
              "      <td>NaN</td>\n",
              "      <td>NaN</td>\n",
              "      <td>NaN</td>\n",
              "      <td>NaN</td>\n",
              "      <td>NaN</td>\n",
              "      <td>NaN</td>\n",
              "    </tr>\n",
              "    <tr>\n",
              "      <th>5570550</th>\n",
              "      <td>2016-03-28</td>\n",
              "      <td>11609</td>\n",
              "      <td>NaN</td>\n",
              "      <td>NaN</td>\n",
              "      <td>NaN</td>\n",
              "      <td>NaN</td>\n",
              "      <td>0</td>\n",
              "      <td>NaN</td>\n",
              "      <td>NaN</td>\n",
              "      <td>NaN</td>\n",
              "      <td>NaN</td>\n",
              "      <td>NaN</td>\n",
              "      <td>NaN</td>\n",
              "    </tr>\n",
              "    <tr>\n",
              "      <th>5570551</th>\n",
              "      <td>2016-03-29</td>\n",
              "      <td>11609</td>\n",
              "      <td>NaN</td>\n",
              "      <td>NaN</td>\n",
              "      <td>NaN</td>\n",
              "      <td>NaN</td>\n",
              "      <td>0</td>\n",
              "      <td>NaN</td>\n",
              "      <td>NaN</td>\n",
              "      <td>NaN</td>\n",
              "      <td>NaN</td>\n",
              "      <td>NaN</td>\n",
              "      <td>NaN</td>\n",
              "    </tr>\n",
              "    <tr>\n",
              "      <th>5570552</th>\n",
              "      <td>2016-03-30</td>\n",
              "      <td>11609</td>\n",
              "      <td>NaN</td>\n",
              "      <td>NaN</td>\n",
              "      <td>NaN</td>\n",
              "      <td>NaN</td>\n",
              "      <td>0</td>\n",
              "      <td>NaN</td>\n",
              "      <td>NaN</td>\n",
              "      <td>NaN</td>\n",
              "      <td>NaN</td>\n",
              "      <td>NaN</td>\n",
              "      <td>NaN</td>\n",
              "    </tr>\n",
              "    <tr>\n",
              "      <th>5570553</th>\n",
              "      <td>2016-03-31</td>\n",
              "      <td>11609</td>\n",
              "      <td>NaN</td>\n",
              "      <td>NaN</td>\n",
              "      <td>NaN</td>\n",
              "      <td>NaN</td>\n",
              "      <td>0</td>\n",
              "      <td>NaN</td>\n",
              "      <td>NaN</td>\n",
              "      <td>NaN</td>\n",
              "      <td>NaN</td>\n",
              "      <td>NaN</td>\n",
              "      <td>NaN</td>\n",
              "    </tr>\n",
              "  </tbody>\n",
              "</table>\n",
              "<p>5570554 rows × 13 columns</p>\n",
              "</div>"
            ],
            "text/plain": [
              "               date  week_id event_name_1 event_type_1 event_name_2  \\\n",
              "0        2011-03-01    11105          NaN          NaN          NaN   \n",
              "1        2011-03-01    11105          NaN          NaN          NaN   \n",
              "2        2011-03-01    11105          NaN          NaN          NaN   \n",
              "3        2011-03-01    11105          NaN          NaN          NaN   \n",
              "4        2011-03-01    11105          NaN          NaN          NaN   \n",
              "...             ...      ...          ...          ...          ...   \n",
              "5570549  2016-03-27    11609       Easter     Cultural          NaN   \n",
              "5570550  2016-03-28    11609          NaN          NaN          NaN   \n",
              "5570551  2016-03-29    11609          NaN          NaN          NaN   \n",
              "5570552  2016-03-30    11609          NaN          NaN          NaN   \n",
              "5570553  2016-03-31    11609          NaN          NaN          NaN   \n",
              "\n",
              "        event_type_2  snap        item_id    dept_id   cat_id  sales  price  \\\n",
              "0                NaN     1  HOBBIES_1_001  HOBBIES_1  HOBBIES    0.0    NaN   \n",
              "1                NaN     1  HOBBIES_1_002  HOBBIES_1  HOBBIES    0.0    NaN   \n",
              "2                NaN     1  HOBBIES_1_003  HOBBIES_1  HOBBIES    0.0    NaN   \n",
              "3                NaN     1  HOBBIES_1_004  HOBBIES_1  HOBBIES    0.0    NaN   \n",
              "4                NaN     1  HOBBIES_1_005  HOBBIES_1  HOBBIES    0.0    NaN   \n",
              "...              ...   ...            ...        ...      ...    ...    ...   \n",
              "5570549          NaN     0            NaN        NaN      NaN    NaN    NaN   \n",
              "5570550          NaN     0            NaN        NaN      NaN    NaN    NaN   \n",
              "5570551          NaN     0            NaN        NaN      NaN    NaN    NaN   \n",
              "5570552          NaN     0            NaN        NaN      NaN    NaN    NaN   \n",
              "5570553          NaN     0            NaN        NaN      NaN    NaN    NaN   \n",
              "\n",
              "         turnover_day  \n",
              "0                 NaN  \n",
              "1                 NaN  \n",
              "2                 NaN  \n",
              "3                 NaN  \n",
              "4                 NaN  \n",
              "...               ...  \n",
              "5570549           NaN  \n",
              "5570550           NaN  \n",
              "5570551           NaN  \n",
              "5570552           NaN  \n",
              "5570553           NaN  \n",
              "\n",
              "[5570554 rows x 13 columns]"
            ]
          },
          "execution_count": 55,
          "metadata": {},
          "output_type": "execute_result"
        }
      ],
      "source": [
        "df"
      ]
    },
    {
      "cell_type": "markdown",
      "metadata": {
        "id": "rpPqRjefmjDJ"
      },
      "source": [
        "#Im nächsten Schritt date zu datetime format ändern und price von nan zu 0 ändern (aber nicht für die Daten ab dem 01.03.2016)"
      ]
    },
    {
      "cell_type": "markdown",
      "metadata": {},
      "source": []
    }
  ],
  "metadata": {
    "colab": {
      "collapsed_sections": [
        "23vMBqsU9y3q",
        "afpWY8C8Ax2V",
        "Wq38HaGuA1he"
      ],
      "provenance": []
    },
    "kernelspec": {
      "display_name": "Python 3.10.7 64-bit",
      "language": "python",
      "name": "python3"
    },
    "language_info": {
      "codemirror_mode": {
        "name": "ipython",
        "version": 3
      },
      "file_extension": ".py",
      "mimetype": "text/x-python",
      "name": "python",
      "nbconvert_exporter": "python",
      "pygments_lexer": "ipython3",
      "version": "3.10.7"
    },
    "vscode": {
      "interpreter": {
        "hash": "67bc8c7d543f88189c4c83231897ccf8ee31e5f0f95c41f216b9b9d9de9c77f9"
      }
    }
  },
  "nbformat": 4,
  "nbformat_minor": 0
}
